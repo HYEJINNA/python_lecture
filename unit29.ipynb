{
 "cells": [
  {
   "cell_type": "code",
   "execution_count": 5,
   "metadata": {
    "colab": {
     "base_uri": "https://localhost:8080/"
    },
    "id": "hOyt6xzAnw6z",
    "outputId": "95747f47-9936-47f8-fde6-fefec4d20d32"
   },
   "outputs": [
    {
     "name": "stdout",
     "output_type": "stream",
     "text": [
      "Hello world!\n"
     ]
    }
   ],
   "source": [
    "hello()\n",
    "\n",
    "def hello():\n",
    "  print('Hello, world!')"
   ]
  },
  {
   "cell_type": "code",
   "execution_count": 7,
   "metadata": {
    "id": "b22jAyPyoKWD"
   },
   "outputs": [],
   "source": [
    "def hello():\n",
    "    pass"
   ]
  },
  {
   "cell_type": "code",
   "execution_count": 9,
   "metadata": {
    "colab": {
     "base_uri": "https://localhost:8080/"
    },
    "id": "9dLx62VAoZQB",
    "outputId": "388847bd-75a2-454e-c9c7-a1887b3e7164"
   },
   "outputs": [
    {
     "name": "stdout",
     "output_type": "stream",
     "text": [
      "30\n"
     ]
    }
   ],
   "source": [
    "def add(a,b):\n",
    "  print(a+b)\n",
    "\n",
    "add(10,20)"
   ]
  },
  {
   "cell_type": "code",
   "execution_count": 10,
   "metadata": {
    "colab": {
     "base_uri": "https://localhost:8080/"
    },
    "id": "L3ePWHmVooha",
    "outputId": "387324ec-0878-419f-8e37-0641a91c6a3d"
   },
   "outputs": [
    {
     "name": "stdout",
     "output_type": "stream",
     "text": [
      "30\n",
      "이 함수는 a와 b를 더한 뒤 결과를 반환하는 함수입니다.\n"
     ]
    }
   ],
   "source": [
    "def add(a, b):\n",
    "    \"\"\"이 함수는 a와 b를 더한 뒤 결과를 반환하는 함수입니다.\"\"\"\n",
    "    return a + b\n",
    " \n",
    "x = add(10, 20)       # 함수를 호출해도 독스트링은 출력되지 않음\n",
    "print(x)\n",
    " \n",
    "print(add.__doc__)    # 함수의 __doc__로 독스트링 출력"
   ]
  },
  {
   "cell_type": "code",
   "execution_count": 15,
   "metadata": {
    "colab": {
     "base_uri": "https://localhost:8080/"
    },
    "id": "dB3SiES5o7Xx",
    "outputId": "72639a7d-fd35-438d-a86d-a459367603c9"
   },
   "outputs": [
    {
     "data": {
      "text/plain": [
       "30"
      ]
     },
     "execution_count": 15,
     "metadata": {},
     "output_type": "execute_result"
    }
   ],
   "source": [
    "def add(a,b):\n",
    "  return a+b\n",
    "\n",
    "x = add(10,20)\n",
    "x\n",
    "\n",
    "\n"
   ]
  },
  {
   "cell_type": "code",
   "execution_count": 16,
   "metadata": {
    "colab": {
     "base_uri": "https://localhost:8080/"
    },
    "id": "_PmJZ4jcpQQi",
    "outputId": "f01a0a6d-dee9-4763-9c35-ab658fcb438d"
   },
   "outputs": [
    {
     "name": "stdout",
     "output_type": "stream",
     "text": [
      "30\n"
     ]
    }
   ],
   "source": [
    " print(add(10, 20))"
   ]
  },
  {
   "cell_type": "code",
   "execution_count": 18,
   "metadata": {
    "colab": {
     "base_uri": "https://localhost:8080/"
    },
    "id": "BD8z3VP6pVNS",
    "outputId": "57f15acf-bf7c-493a-d98d-dca8a0355b1d"
   },
   "outputs": [
    {
     "data": {
      "text/plain": [
       "1"
      ]
     },
     "execution_count": 18,
     "metadata": {},
     "output_type": "execute_result"
    }
   ],
   "source": [
    "def one():\n",
    "  return 1\n",
    "\n",
    "x = one()\n",
    "x"
   ]
  },
  {
   "cell_type": "code",
   "execution_count": 19,
   "metadata": {
    "colab": {
     "base_uri": "https://localhost:8080/"
    },
    "id": "LF018C17pdPK",
    "outputId": "992b4f90-3448-4793-ed2f-715d5a475cdf"
   },
   "outputs": [
    {
     "name": "stdout",
     "output_type": "stream",
     "text": [
      "5입니다.\n"
     ]
    }
   ],
   "source": [
    " def not_ten(a):\n",
    "   if a == 10:\n",
    "      return\n",
    "   print(a, '입니다.',sep='')\n",
    "  \n",
    "not_ten(5)"
   ]
  },
  {
   "cell_type": "code",
   "execution_count": 25,
   "metadata": {
    "colab": {
     "base_uri": "https://localhost:8080/"
    },
    "id": "V367N7hap1ES",
    "outputId": "d42c019f-fbe4-4547-d25b-87959cca3983"
   },
   "outputs": [
    {
     "data": {
      "text/plain": [
       "30"
      ]
     },
     "execution_count": 25,
     "metadata": {},
     "output_type": "execute_result"
    }
   ],
   "source": [
    "def add_sub(a, b):\n",
    "  return a + b, a - b\n",
    "\n",
    "x, y = add_sub(10, 20)\n",
    "x\n"
   ]
  },
  {
   "cell_type": "code",
   "execution_count": 24,
   "metadata": {
    "colab": {
     "base_uri": "https://localhost:8080/"
    },
    "id": "CsSkuXwUp_Xq",
    "outputId": "662f43e5-9f90-4ca2-c26f-ccdb0718dfe6"
   },
   "outputs": [
    {
     "data": {
      "text/plain": [
       "-10"
      ]
     },
     "execution_count": 24,
     "metadata": {},
     "output_type": "execute_result"
    }
   ],
   "source": [
    "y"
   ]
  },
  {
   "cell_type": "code",
   "execution_count": 26,
   "metadata": {
    "colab": {
     "base_uri": "https://localhost:8080/"
    },
    "id": "dozL-Rx9qIfi",
    "outputId": "aa1e8b69-ca2f-4e51-8c37-523d659546e3"
   },
   "outputs": [
    {
     "data": {
      "text/plain": [
       "30"
      ]
     },
     "execution_count": 26,
     "metadata": {},
     "output_type": "execute_result"
    }
   ],
   "source": [
    "x, y = (30, -10)\n",
    "x"
   ]
  },
  {
   "cell_type": "code",
   "execution_count": 27,
   "metadata": {
    "colab": {
     "base_uri": "https://localhost:8080/"
    },
    "id": "pqY2PMqUqL8C",
    "outputId": "6c7e4d9e-412a-4fad-830a-02b116f6594f"
   },
   "outputs": [
    {
     "data": {
      "text/plain": [
       "-10"
      ]
     },
     "execution_count": 27,
     "metadata": {},
     "output_type": "execute_result"
    }
   ],
   "source": [
    "y"
   ]
  },
  {
   "cell_type": "code",
   "execution_count": 28,
   "metadata": {
    "id": "dn40nMZGqNwS"
   },
   "outputs": [],
   "source": [
    "def one_two():\n",
    "   return 1, 2    # return (1, 2)와 같음"
   ]
  },
  {
   "cell_type": "code",
   "execution_count": 30,
   "metadata": {
    "colab": {
     "base_uri": "https://localhost:8080/"
    },
    "id": "4b_OgXEBqXwC",
    "outputId": "610a0033-f41e-43b1-8a8e-6e552def7e97"
   },
   "outputs": [
    {
     "name": "stdout",
     "output_type": "stream",
     "text": [
      "1 2\n"
     ]
    }
   ],
   "source": [
    "def one_two():\n",
    "  return [1, 2]\n",
    "\n",
    "x, y = one_two()\n",
    "print(x, y)"
   ]
  },
  {
   "cell_type": "code",
   "execution_count": 31,
   "metadata": {
    "colab": {
     "base_uri": "https://localhost:8080/"
    },
    "id": "tHXaw74Dqokz",
    "outputId": "8d925fdd-7947-4b3d-cb69-500a3e94f8ed"
   },
   "outputs": [
    {
     "name": "stdout",
     "output_type": "stream",
     "text": [
      "30\n",
      "200\n"
     ]
    }
   ],
   "source": [
    "def mul(a, b):\n",
    "  c = a * b\n",
    "  return c\n",
    "\n",
    "def add(a, b):\n",
    "    c = a + b\n",
    "    print(c)\n",
    "    d = mul(a, b)\n",
    "    print(d)\n",
    " \n",
    "x = 10\n",
    "y = 20\n",
    "add(x, y)"
   ]
  },
  {
   "cell_type": "markdown",
   "metadata": {
    "id": "vtvChRVRzfHc"
   },
   "source": [
    "다음 소스 코드를 완성하여 x를 y로 나누었을 때의 몫과 나머지가 출력되게 만드세요."
   ]
  },
  {
   "cell_type": "code",
   "execution_count": 33,
   "metadata": {
    "colab": {
     "base_uri": "https://localhost:8080/"
    },
    "id": "cNenzDGIzgTM",
    "outputId": "aef7ca88-1223-48ca-940a-717ee055f0ad"
   },
   "outputs": [
    {
     "name": "stdout",
     "output_type": "stream",
     "text": [
      "몫: 3, 나머지: 1\n"
     ]
    }
   ],
   "source": [
    "x = 10\n",
    "y = 3\n",
    " \n",
    "def get_quotient_remainder(a, b):\n",
    "    return a // b, a % b\n",
    "                                 \n",
    "                                 \n",
    "quotient, remainder = get_quotient_remainder(x, y)\n",
    "print('몫: {0}, 나머지: {1}'.format(quotient, remainder))"
   ]
  }
 ],
 "metadata": {
  "colab": {
   "name": "unit29.ipynb",
   "provenance": []
  },
  "kernelspec": {
   "display_name": "Python 3 (ipykernel)",
   "language": "python",
   "name": "python3"
  },
  "language_info": {
   "codemirror_mode": {
    "name": "ipython",
    "version": 3
   },
   "file_extension": ".py",
   "mimetype": "text/x-python",
   "name": "python",
   "nbconvert_exporter": "python",
   "pygments_lexer": "ipython3",
   "version": "3.9.12"
  }
 },
 "nbformat": 4,
 "nbformat_minor": 4
}
