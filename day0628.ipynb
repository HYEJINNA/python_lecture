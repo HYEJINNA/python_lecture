{
 "cells": [
  {
   "cell_type": "markdown",
   "metadata": {
    "id": "dDNowZcOqb77"
   },
   "source": [
    "## 반복문 복습"
   ]
  },
  {
   "cell_type": "code",
   "execution_count": 2,
   "metadata": {
    "colab": {
     "base_uri": "https://localhost:8080/"
    },
    "id": "pXTDIWGdqeFy",
    "outputId": "43bfb453-34de-43e2-de37-7f2b765ea086"
   },
   "outputs": [
    {
     "name": "stdout",
     "output_type": "stream",
     "text": [
      "No :  1\n",
      "Hello World\n",
      "안녕하세요\n",
      "No :  2\n",
      "Hello World\n",
      "안녕하세요\n",
      "No :  3\n",
      "Hello World\n",
      "안녕하세요\n",
      "No :  4\n",
      "Hello World\n",
      "안녕하세요\n",
      "No :  5\n",
      "Hello World\n",
      "안녕하세요\n",
      "No :  6\n",
      "Hello World\n",
      "안녕하세요\n",
      "No :  7\n",
      "Hello World\n",
      "안녕하세요\n",
      "No :  8\n",
      "Hello World\n",
      "안녕하세요\n",
      "No :  9\n",
      "Hello World\n",
      "안녕하세요\n",
      "No :  10\n",
      "Hello World\n",
      "안녕하세요\n",
      "No :  11\n"
     ]
    }
   ],
   "source": [
    "for i in range(1000):\n",
    "  print(\"No : \", i+1)\n",
    "  if i == 10:\n",
    "    break\n",
    "  print(\"Hello World\")\n",
    "  print(\"안녕하세요\")"
   ]
  },
  {
   "cell_type": "code",
   "execution_count": 9,
   "metadata": {
    "colab": {
     "base_uri": "https://localhost:8080/"
    },
    "id": "_8xDeyI6rE0U",
    "outputId": "94d5cd2d-a5e1-48fe-99e8-f96491123d2b"
   },
   "outputs": [
    {
     "name": "stdout",
     "output_type": "stream",
     "text": [
      "K\n",
      "a\n"
     ]
    }
   ],
   "source": [
    "a = \"Kaggle\"\n",
    "\n",
    "for i in a:\n",
    "  print(i)\n",
    "  if i == \"a\":\n",
    "    break"
   ]
  },
  {
   "cell_type": "markdown",
   "metadata": {
    "id": "cLyMdS6Lr9Xc"
   },
   "source": [
    "- 리스트의 값이 존재"
   ]
  },
  {
   "cell_type": "code",
   "execution_count": 14,
   "metadata": {
    "colab": {
     "base_uri": "https://localhost:8080/"
    },
    "id": "6Q8vS7MZsA8k",
    "outputId": "ac0dcf54-47e2-42c0-fef8-2ad5ca94bcb1"
   },
   "outputs": [
    {
     "name": "stdout",
     "output_type": "stream",
     "text": [
      "numbers: 1\n",
      "total: 1\n",
      "-- 최종결괏값 --\n",
      "1\n",
      "numbers: 2\n",
      "total: 3\n",
      "-- 최종결괏값 --\n",
      "3\n",
      "numbers: 3\n",
      "total: 6\n",
      "-- 최종결괏값 --\n",
      "6\n",
      "numbers: 4\n",
      "total: 10\n",
      "-- 최종결괏값 --\n",
      "10\n",
      "numbers: 5\n",
      "total: 15\n",
      "-- 최종결괏값 --\n",
      "15\n"
     ]
    }
   ],
   "source": [
    "numbers = [1,2,3,4,5]\n",
    "sum  = 0\n",
    "\n",
    "for num in numbers:\n",
    "  print(\"numbers:\", num)\n",
    "  sum = sum + num\n",
    "  print(\"total:\", sum)\n",
    "\n",
    "  print(\"-- 최종결괏값 --\")\n",
    "  print(sum)"
   ]
  },
  {
   "cell_type": "code",
   "execution_count": 19,
   "metadata": {
    "colab": {
     "base_uri": "https://localhost:8080/"
    },
    "id": "9XCg8RXKtU99",
    "outputId": "e3110458-2abd-44f8-f433-868061854044"
   },
   "outputs": [
    {
     "name": "stdout",
     "output_type": "stream",
     "text": [
      "조건문 밖 : apple\n",
      "조건문 안쪽 : apple\n",
      "조건문 밖 : kiwi\n",
      "조건문 밖 : manggo\n",
      "조건문 안쪽 : manggo\n",
      "['apple', 'manggo']\n"
     ]
    }
   ],
   "source": [
    "fruits = ['apple','kiwi','manggo']\n",
    "newlist=[]\n",
    "\n",
    "# apple : a가 있나요? 있네요. newlist에 추가하세요.\n",
    "# kiwi : a가 있나요? 없네요. 그럼 넘어가요.\n",
    "# mango : a가 있나요? 있네요. newlist에 추가하세요.\n",
    "for fruit in fruits:\n",
    "  print(\"조건문 밖 :\",fruit)\n",
    "  if \"a\" in fruit:\n",
    "   print(\"조건문 안쪽 :\", fruit)\n",
    "   newlist.append(fruit)\n",
    "print(newlist)"
   ]
  },
  {
   "cell_type": "markdown",
   "metadata": {
    "id": "b8fVktozvJ7m"
   },
   "source": [
    "## While Loop\n",
    "\n",
    "While문 : 분석할때 거의 사용안함, 개발할때 많이 사용"
   ]
  },
  {
   "cell_type": "code",
   "execution_count": 20,
   "metadata": {
    "colab": {
     "base_uri": "https://localhost:8080/"
    },
    "id": "KidasmgVvN9b",
    "outputId": "92d742bc-472e-48ee-c11c-748a3d587af1"
   },
   "outputs": [
    {
     "name": "stdout",
     "output_type": "stream",
     "text": [
      "1\n",
      "2\n",
      "3\n",
      "4\n",
      "5\n",
      "6\n",
      "7\n",
      "8\n",
      "9\n"
     ]
    }
   ],
   "source": [
    "i = 1\n",
    "while i < 10: #참일때만 반복문 코드실행됨\n",
    "  # 코드\n",
    "  print(i)\n",
    "  i +=1 # 1씩 증가\n",
    "    #i -=1 #1씩 감소"
   ]
  },
  {
   "cell_type": "markdown",
   "metadata": {
    "id": "kBWUlDSYxVy7"
   },
   "source": [
    "## 사용자 정의함수\n",
    "- 내가 필요에 의해 직접 함수를 작성\n"
   ]
  },
  {
   "cell_type": "code",
   "execution_count": 21,
   "metadata": {
    "id": "tCNgdE_Vxc-T"
   },
   "outputs": [],
   "source": [
    "def 함수명(param1, param2):\n",
    "  #코드\n",
    "  return None\n",
    "\n"
   ]
  },
  {
   "cell_type": "code",
   "execution_count": 22,
   "metadata": {
    "colab": {
     "base_uri": "https://localhost:8080/"
    },
    "id": "qBCbqvCaxtoG",
    "outputId": "fdf9fe33-5db6-4937-ad70-e006a624f86c"
   },
   "outputs": [
    {
     "name": "stdout",
     "output_type": "stream",
     "text": [
      "9\n",
      "1\n"
     ]
    }
   ],
   "source": [
    "def add(a = 0, b = 1):\n",
    "  c = a + b\n",
    "  return c\n",
    "\n",
    "print(add(a = 5, b = 4))\n",
    "print(add())"
   ]
  },
  {
   "cell_type": "markdown",
   "metadata": {
    "id": "tHr1Q0sx06Ry"
   },
   "source": [
    "- 사칙연산 사용자 정의함수 만들기 \n"
   ]
  },
  {
   "cell_type": "code",
   "execution_count": 24,
   "metadata": {
    "colab": {
     "base_uri": "https://localhost:8080/"
    },
    "id": "yHFX9XEI0_aU",
    "outputId": "10440ebc-ba08-4fd2-98d1-aeabe94ab93b"
   },
   "outputs": [
    {
     "name": "stdout",
     "output_type": "stream",
     "text": [
      "1000\n"
     ]
    }
   ],
   "source": [
    "def na(a=10, b=100):\n",
    "  c = a * b\n",
    "  return c\n",
    "\n",
    "print(na())\n"
   ]
  },
  {
   "cell_type": "code",
   "execution_count": 25,
   "metadata": {
    "colab": {
     "base_uri": "https://localhost:8080/"
    },
    "id": "FOdW1gIA3NxO",
    "outputId": "626cadae-07e8-4325-9c74-d252123c2483"
   },
   "outputs": [
    {
     "name": "stdout",
     "output_type": "stream",
     "text": [
      "0.5\n",
      "0.08\n"
     ]
    }
   ],
   "source": [
    "def love(a=8,b=100):\n",
    "  c = a / b\n",
    "  return c\n",
    "print(love(a=10,b=20))\n",
    "print(love())\n"
   ]
  },
  {
   "cell_type": "code",
   "execution_count": 26,
   "metadata": {
    "colab": {
     "base_uri": "https://localhost:8080/"
    },
    "id": "MjUxV2Vx3x1W",
    "outputId": "4c7fe7a9-d8c2-4c98-b22f-80824ecebf9b"
   },
   "outputs": [
    {
     "name": "stdout",
     "output_type": "stream",
     "text": [
      "3\n",
      "-1\n",
      "2\n",
      "0.5\n"
     ]
    }
   ],
   "source": [
    "def add(a, b) :\n",
    "  return a + b\n",
    "print(add(1,2))\n",
    "def cal(a, b) :\n",
    "  return a - b\n",
    "print(cal(1,2))\n",
    "def cal(a, b) :\n",
    "  return a * b\n",
    "print(cal(1,2))\n",
    "def cal(a, b) :\n",
    "  return a / b\n",
    "print(cal(1,2))"
   ]
  },
  {
   "cell_type": "code",
   "execution_count": 28,
   "metadata": {
    "colab": {
     "base_uri": "https://localhost:8080/"
    },
    "id": "Yhf5TW-W4TXs",
    "outputId": "7ce449e3-57b3-438f-b0f7-81f089a1d298"
   },
   "outputs": [
    {
     "name": "stdout",
     "output_type": "stream",
     "text": [
      "-5\n"
     ]
    }
   ],
   "source": [
    "def subtract(a,b):\n",
    "   return a-b\n",
    "\n",
    "print(subtract(a=5,b=10))\n"
   ]
  },
  {
   "cell_type": "markdown",
   "metadata": {
    "id": "oKk27zcw6zfV"
   },
   "source": [
    "- 함수 문서화(매우중요)\n",
    " + 키워드 : Docsting"
   ]
  },
  {
   "cell_type": "code",
   "execution_count": 37,
   "metadata": {
    "colab": {
     "base_uri": "https://localhost:8080/"
    },
    "id": "Cj-7nKbH60-d",
    "outputId": "da3ec1dc-5624-4ea8-b771-f13a87bf63e5"
   },
   "outputs": [
    {
     "name": "stdout",
     "output_type": "stream",
     "text": [
      "-5\n",
      "a,b를 빼는 함수\n",
      "\n",
      "     Parameters:\n",
      "     a(int):int형 숫자 a가 입력\n",
      "\n",
      "     b(int): int형 숫자 b가 입력\n",
      "\n",
      "     Return:\n",
      "     int:반환값 \n",
      "   \n"
     ]
    }
   ],
   "source": [
    "def subtract(a,b):\n",
    "  \"\"\"a,b를 빼는 함수\n",
    "\n",
    "     Parameters:\n",
    "     a(int):int형 숫자 a가 입력\n",
    "\n",
    "     b(int): int형 숫자 b가 입력\n",
    "\n",
    "     Return:\n",
    "     int:반환값 \n",
    "   \"\"\"\n",
    "  return a-b\n",
    "\n",
    "print(subtract(a=5,b=10))\n",
    "print(subtract.__doc__)"
   ]
  },
  {
   "cell_type": "markdown",
   "metadata": {
    "id": "XCmnUDtODhVn"
   },
   "source": [
    "## Numpy\n",
    "- 내장모듈(=라이브러리=패키지) (X)\n",
    "- 별도 라이브러리 설치 \n"
   ]
  },
  {
   "cell_type": "code",
   "execution_count": 38,
   "metadata": {
    "colab": {
     "base_uri": "https://localhost:8080/"
    },
    "id": "0A-vSuuKD5nu",
    "outputId": "6101f5a5-42c2-4591-e15b-dbeda63afd32"
   },
   "outputs": [
    {
     "name": "stdout",
     "output_type": "stream",
     "text": [
      "1.21.6\n"
     ]
    }
   ],
   "source": [
    "import numpy as np\n",
    "print(np.__version__)"
   ]
  },
  {
   "cell_type": "code",
   "execution_count": 41,
   "metadata": {
    "colab": {
     "base_uri": "https://localhost:8080/"
    },
    "id": "jk89Fp8sEMGh",
    "outputId": "f4c1b282-8e42-496c-e414-d93ea6a3452b"
   },
   "outputs": [
    {
     "name": "stdout",
     "output_type": "stream",
     "text": [
      "<class 'list'>\n",
      "<class 'numpy.ndarray'>\n"
     ]
    }
   ],
   "source": [
    "temp = [1,2,3]\n",
    "temp_array = np.array(temp)\n",
    "print(type(temp))\n",
    "print(type(temp_array))"
   ]
  },
  {
   "cell_type": "markdown",
   "metadata": {
    "id": "t-_-ta2OElel"
   },
   "source": [
    "## 사칙연산"
   ]
  },
  {
   "cell_type": "code",
   "execution_count": 42,
   "metadata": {
    "colab": {
     "base_uri": "https://localhost:8080/"
    },
    "id": "nFho8DMnEoNV",
    "outputId": "bb910f58-23fe-4f36-fa33-738e86c615a4"
   },
   "outputs": [
    {
     "name": "stdout",
     "output_type": "stream",
     "text": [
      "[170 170 200]\n",
      "<class 'numpy.ndarray'>\n"
     ]
    }
   ],
   "source": [
    "math_score = [90,80,100]\n",
    "eng_score = [80,90,100]\n",
    "\n",
    "# math_score + eng_score\n",
    "math_array = np.array(math_score)\n",
    "eng_array = np.array(eng_score)\n",
    "\n",
    "total = math_array + eng_array\n",
    "print(total)\n",
    "print(type(total))"
   ]
  },
  {
   "cell_type": "code",
   "execution_count": null,
   "metadata": {
    "id": "L1h7JjHsFdL4"
   },
   "outputs": [],
   "source": [
    "- 집계함수"
   ]
  },
  {
   "cell_type": "code",
   "execution_count": 45,
   "metadata": {
    "colab": {
     "base_uri": "https://localhost:8080/"
    },
    "id": "5xlRUwTyFglI",
    "outputId": "de3cdeba-f3ef-4a4a-a1d1-564cb05e94ec"
   },
   "outputs": [
    {
     "name": "stdout",
     "output_type": "stream",
     "text": [
      "170\n",
      "200\n",
      "540\n"
     ]
    }
   ],
   "source": [
    "print(np.min(total))\n",
    "print(np.max(total))\n",
    "print(np.sum(total))"
   ]
  },
  {
   "cell_type": "markdown",
   "metadata": {
    "id": "xJ1IB6hRF2jR"
   },
   "source": [
    "## 차원 확인\n",
    "- 배열의 차원 확인 필요"
   ]
  },
  {
   "cell_type": "code",
   "execution_count": 52,
   "metadata": {
    "colab": {
     "base_uri": "https://localhost:8080/"
    },
    "id": "X0ldH3kbF7lJ",
    "outputId": "f300464c-4c2a-4573-d14d-9acad998ed2d"
   },
   "outputs": [
    {
     "name": "stdout",
     "output_type": "stream",
     "text": [
      "(3,)\n",
      "1\n",
      "[1 2 3]\n"
     ]
    }
   ],
   "source": [
    "# 1차원 배열\n",
    "temp_arr = np.array([1,2,3])\n",
    "print(temp_arr.shape) # 값이 몇개?\n",
    "print(temp_arr.ndim) # 몇 차원?\n",
    "print(temp_arr)"
   ]
  },
  {
   "cell_type": "code",
   "execution_count": 51,
   "metadata": {
    "colab": {
     "base_uri": "https://localhost:8080/"
    },
    "id": "LGd4WX7vGXh6",
    "outputId": "16c2a6c6-2f12-473b-f643-ca3ca61365ef"
   },
   "outputs": [
    {
     "name": "stdout",
     "output_type": "stream",
     "text": [
      "(2, 3)\n",
      "2\n",
      "[[1 2 3]\n",
      " [4 5 6]]\n"
     ]
    }
   ],
   "source": [
    "# 2차원 배열 생성\n",
    "temp_arr = np.array([[1,2,3,],[4,5,6]]) # 2묶음, 3개씩\n",
    "print(temp_arr.shape)\n",
    "print(temp_arr.ndim)\n",
    "print(temp_arr)\n"
   ]
  },
  {
   "cell_type": "code",
   "execution_count": 54,
   "metadata": {
    "colab": {
     "base_uri": "https://localhost:8080/"
    },
    "id": "N-WnTfpMHLC4",
    "outputId": "34737c07-0f3b-4aa7-a5fa-20b504c264ae"
   },
   "outputs": [
    {
     "name": "stdout",
     "output_type": "stream",
     "text": [
      "(2, 2, 3)\n",
      "3\n",
      "[[[ 1  2  3]\n",
      "  [ 4  5  6]]\n",
      "\n",
      " [[ 7  8  9]\n",
      "  [10 11 12]]]\n"
     ]
    }
   ],
   "source": [
    "# 3차원 배열 -> 이미지\n",
    "temp_arr = np.array([[[1, 2, 3], [4, 5, 6]], [[7, 8, 9], [10, 11, 12]]])\n",
    "print(temp_arr.shape)\n",
    "print(temp_arr.ndim)\n",
    "print(temp_arr)"
   ]
  },
  {
   "cell_type": "markdown",
   "metadata": {
    "id": "fUuV5hDtsBkz"
   },
   "source": [
    "## 배열 생성의 다양한 방법들\n",
    "- 모두 0으로 채운다"
   ]
  },
  {
   "cell_type": "code",
   "execution_count": 1,
   "metadata": {
    "colab": {
     "base_uri": "https://localhost:8080/"
    },
    "id": "nhez7MF6sHl7",
    "outputId": "feaf88f2-1eca-455c-aa16-8480004df719"
   },
   "outputs": [
    {
     "name": "stdout",
     "output_type": "stream",
     "text": [
      "1.21.6\n"
     ]
    }
   ],
   "source": [
    "import numpy as np\n",
    "print(np.__version__)"
   ]
  },
  {
   "cell_type": "code",
   "execution_count": 2,
   "metadata": {
    "colab": {
     "base_uri": "https://localhost:8080/"
    },
    "id": "p4v-L2TvsW-d",
    "outputId": "fa096010-0672-4481-91f6-1946642e545d"
   },
   "outputs": [
    {
     "data": {
      "text/plain": [
       "array([[[0., 0., 0.],\n",
       "        [0., 0., 0.],\n",
       "        [0., 0., 0.]],\n",
       "\n",
       "       [[0., 0., 0.],\n",
       "        [0., 0., 0.],\n",
       "        [0., 0., 0.]],\n",
       "\n",
       "       [[0., 0., 0.],\n",
       "        [0., 0., 0.],\n",
       "        [0., 0., 0.]]])"
      ]
     },
     "execution_count": 2,
     "metadata": {},
     "output_type": "execute_result"
    }
   ],
   "source": [
    "temp_arr = np.zeros((3,3,3))\n",
    "temp_arr"
   ]
  },
  {
   "cell_type": "markdown",
   "metadata": {
    "id": "EmCP3H0DsoGq"
   },
   "source": [
    "- a모두 1로 채운다"
   ]
  },
  {
   "cell_type": "code",
   "execution_count": 3,
   "metadata": {
    "colab": {
     "base_uri": "https://localhost:8080/"
    },
    "id": "ck8zjX2Tsq2a",
    "outputId": "23368ee3-9655-47c7-c10f-999df47a0ff5"
   },
   "outputs": [
    {
     "data": {
      "text/plain": [
       "array([[1., 1., 1.],\n",
       "       [1., 1., 1.]])"
      ]
     },
     "execution_count": 3,
     "metadata": {},
     "output_type": "execute_result"
    }
   ],
   "source": [
    "temp_arr = np.ones((2,3))\n",
    "temp_arr"
   ]
  },
  {
   "cell_type": "markdown",
   "metadata": {
    "id": "CmvB5XLPsyML"
   },
   "source": [
    "- 임의의 상수값으로 채운다"
   ]
  },
  {
   "cell_type": "code",
   "execution_count": 4,
   "metadata": {
    "colab": {
     "base_uri": "https://localhost:8080/"
    },
    "id": "f_SRybbNs1fD",
    "outputId": "dfa5f5e6-33f3-4f89-d519-83a218d6fc61"
   },
   "outputs": [
    {
     "data": {
      "text/plain": [
       "array([[5, 5, 5],\n",
       "       [5, 5, 5],\n",
       "       [5, 5, 5]])"
      ]
     },
     "execution_count": 4,
     "metadata": {},
     "output_type": "execute_result"
    }
   ],
   "source": [
    "temp_arr = np.full((3,3),5)\n",
    "temp_arr"
   ]
  },
  {
   "cell_type": "markdown",
   "metadata": {
    "id": "euoTtWM4tUgz"
   },
   "source": [
    "- 최소, 최대 숫자의 범위를 정해두고, 각 구간별로 값을 생성"
   ]
  },
  {
   "cell_type": "code",
   "execution_count": 5,
   "metadata": {
    "colab": {
     "base_uri": "https://localhost:8080/"
    },
    "id": "FHHTdQuctbjL",
    "outputId": "0c195c1e-1a5c-432f-edd3-2357a6c2a3fd"
   },
   "outputs": [
    {
     "data": {
      "text/plain": [
       "array([ 5.        ,  5.55555556,  6.11111111,  6.66666667,  7.22222222,\n",
       "        7.77777778,  8.33333333,  8.88888889,  9.44444444, 10.        ])"
      ]
     },
     "execution_count": 5,
     "metadata": {},
     "output_type": "execute_result"
    }
   ],
   "source": [
    "temp_arr = np.linspace(5,10,10)\n",
    "temp_arr"
   ]
  },
  {
   "cell_type": "markdown",
   "metadata": {
    "id": "14n1WOkxuAsq"
   },
   "source": [
    "- 반복문 시, 자주 등장하는 배열"
   ]
  },
  {
   "cell_type": "code",
   "execution_count": 7,
   "metadata": {
    "colab": {
     "base_uri": "https://localhost:8080/"
    },
    "id": "BFgv8Kxftxcz",
    "outputId": "3f2db360-4f4e-4a15-8a32-31203859b4da"
   },
   "outputs": [
    {
     "data": {
      "text/plain": [
       "array([ 1,  2,  3,  4,  5,  6,  7,  8,  9, 10])"
      ]
     },
     "execution_count": 7,
     "metadata": {},
     "output_type": "execute_result"
    }
   ],
   "source": [
    "temp_arr = np.arange(1,11,1)\n",
    "temp_arr"
   ]
  },
  {
   "cell_type": "markdown",
   "metadata": {
    "id": "S8I0nEI2uDYQ"
   },
   "source": [
    "- 난수 생성"
   ]
  },
  {
   "cell_type": "code",
   "execution_count": 9,
   "metadata": {
    "colab": {
     "base_uri": "https://localhost:8080/"
    },
    "id": "t1LyhD2IuGSS",
    "outputId": "99cef433-5d41-4401-e84a-6ccd1e9f0fb9"
   },
   "outputs": [
    {
     "name": "stdout",
     "output_type": "stream",
     "text": [
      "0.47713558758041374\n"
     ]
    }
   ],
   "source": [
    "from numpy import random\n",
    "x = random.rand()\n",
    "print(x)"
   ]
  },
  {
   "cell_type": "code",
   "execution_count": null,
   "metadata": {
    "id": "O-kFLkNsvLxk"
   },
   "outputs": [],
   "source": [
    "위와 같은 코드 다른형식 "
   ]
  },
  {
   "cell_type": "code",
   "execution_count": 10,
   "metadata": {
    "colab": {
     "base_uri": "https://localhost:8080/"
    },
    "id": "THLhUKQCuo3k",
    "outputId": "ab0b9eb7-10ab-4a3a-cbb4-fbe40d98761e"
   },
   "outputs": [
    {
     "name": "stdout",
     "output_type": "stream",
     "text": [
      "0.7337058404065017\n"
     ]
    }
   ],
   "source": [
    "import numpy \n",
    "x = numpy.random.rand()\n",
    "print(x)"
   ]
  },
  {
   "cell_type": "markdown",
   "metadata": {
    "id": "jk6OXsmtvS7K"
   },
   "source": [
    "- 랜덤 정수값 추출"
   ]
  },
  {
   "cell_type": "code",
   "execution_count": 11,
   "metadata": {
    "colab": {
     "base_uri": "https://localhost:8080/"
    },
    "id": "NiqLZCywvSAD",
    "outputId": "7cd7e484-4fec-43e0-e6bb-cd1d32c922fc"
   },
   "outputs": [
    {
     "name": "stdout",
     "output_type": "stream",
     "text": [
      "[66 59 51 62 52]\n",
      "<class 'numpy.ndarray'>\n"
     ]
    }
   ],
   "source": [
    "from numpy import random\n",
    "x = random.randint(100,size = (5))\n",
    "print(x)\n",
    "print(type(x))"
   ]
  },
  {
   "cell_type": "markdown",
   "metadata": {
    "id": "CR83uq1JvvT8"
   },
   "source": [
    "- 랜덤 배열, 실수 값 추출"
   ]
  },
  {
   "cell_type": "code",
   "execution_count": 12,
   "metadata": {
    "colab": {
     "base_uri": "https://localhost:8080/"
    },
    "id": "KTAb1Fuevywk",
    "outputId": "a4c70b12-e174-4d41-de15-cf44279e3e1a"
   },
   "outputs": [
    {
     "name": "stdout",
     "output_type": "stream",
     "text": [
      "[[0.20589017 0.44450341 0.98789043 0.31725431 0.64770063]\n",
      " [0.80055663 0.52180604 0.31230452 0.25684295 0.96396122]]\n",
      "<class 'numpy.ndarray'>\n"
     ]
    }
   ],
   "source": [
    "from numpy import random\n",
    "x = random.rand(2,5)\n",
    "print(x)\n",
    "print(type(x))"
   ]
  },
  {
   "cell_type": "markdown",
   "metadata": {
    "id": "D6xVAmtgwNFT"
   },
   "source": [
    "## NumPy 사칙연산"
   ]
  },
  {
   "cell_type": "code",
   "execution_count": 15,
   "metadata": {
    "colab": {
     "base_uri": "https://localhost:8080/"
    },
    "id": "pTz4U1B7wQj0",
    "outputId": "9624830b-9075-4ff1-f249-83e7495727d1"
   },
   "outputs": [
    {
     "name": "stdout",
     "output_type": "stream",
     "text": [
      "[11 22 33]\n",
      "[ -9 -18 -27]\n",
      "[0.1 0.1 0.1]\n",
      "[ 1 16  9]\n"
     ]
    }
   ],
   "source": [
    "import numpy as np\n",
    "array_01 = np.array([1,2,3])\n",
    "array_02 = np.array([10,20,30])\n",
    "\n",
    "\n",
    "# 덧셈\n",
    "newArr = np.add(array_01, array_02)\n",
    "print(newArr)\n",
    "\n",
    "# 뺄셈 \n",
    "newArr = np.subtract(array_01, array_02)\n",
    "print(newArr)\n",
    "\n",
    "# 나누기\n",
    "newArr = np.divide(array_01, array_02)\n",
    "print(newArr)\n",
    "\n",
    "# 거듭제곱\n",
    "array_01 = np.array([1, 2, 3])\n",
    "array_02 = np.array([2, 4, 2])\n",
    "newArr = np.power(array_01, array_02)\n",
    "print(newArr)\n",
    "\n",
    "\n"
   ]
  },
  {
   "cell_type": "markdown",
   "metadata": {
    "id": "s5E9YkLPx3WF"
   },
   "source": [
    "소수점정렬\n",
    "- 소수점을 정렬하는 다양한 방법"
   ]
  },
  {
   "cell_type": "code",
   "execution_count": 17,
   "metadata": {
    "colab": {
     "base_uri": "https://localhost:8080/"
    },
    "id": "j3eWxrObx5gF",
    "outputId": "c57eb8ec-4fa3-4ac1-b4f9-29316c2d0249"
   },
   "outputs": [
    {
     "name": "stdout",
     "output_type": "stream",
     "text": [
      "[-1.  1.]\n",
      "[-1.  1.]\n"
     ]
    }
   ],
   "source": [
    "# 소수점 제거 \n",
    "import numpy as no\n",
    "temp_arr = np.trunc([-1.23,1.23])\n",
    "print(temp_arr)\n",
    "\n",
    "temp_arr = np.fix([-1.23,1.23])\n",
    "print(temp_arr)"
   ]
  },
  {
   "cell_type": "code",
   "execution_count": 19,
   "metadata": {
    "colab": {
     "base_uri": "https://localhost:8080/"
    },
    "id": "b5nGsCJzyj72",
    "outputId": "d1ee2bf5-09bd-42ac-be1b-a168fd69e179"
   },
   "outputs": [
    {
     "name": "stdout",
     "output_type": "stream",
     "text": [
      "[-1.23457  1.23457]\n"
     ]
    }
   ],
   "source": [
    "#임의의 소숫점 자리에서 반올림\n",
    "temp_arr = np.around([-1.2345678, 1.2345678],5)\n",
    "print(temp_arr)"
   ]
  },
  {
   "cell_type": "markdown",
   "metadata": {
    "id": "MEb3k6nD3gbW"
   },
   "source": [
    "## 조건식 (중요)\n",
    "- pandas 가공\n",
    "- numpy\n",
    "- 조건식\n",
    " + 하나의 조건식\n",
    " + 다중 조건식"
   ]
  },
  {
   "cell_type": "code",
   "execution_count": 20,
   "metadata": {
    "colab": {
     "base_uri": "https://localhost:8080/"
    },
    "id": "IKjscG553zNN",
    "outputId": "04a54fdf-f269-436e-89ea-b5893c501944"
   },
   "outputs": [
    {
     "data": {
      "text/plain": [
       "array([0, 1, 2, 3, 4, 5, 6, 7, 8, 9])"
      ]
     },
     "execution_count": 20,
     "metadata": {},
     "output_type": "execute_result"
    }
   ],
   "source": [
    "temp_arr = np.arange(10)\n",
    "temp_arr"
   ]
  },
  {
   "cell_type": "code",
   "execution_count": null,
   "metadata": {
    "id": "LN7ex9KT38Kn"
   },
   "outputs": [],
   "source": [
    "# 5보다 작으면 그냥 원 값 유지\n",
    "# 5보다 크면 기존 값에 곱하기 10을 해줌"
   ]
  },
  {
   "cell_type": "code",
   "execution_count": 21,
   "metadata": {
    "colab": {
     "base_uri": "https://localhost:8080/"
    },
    "id": "QcEi2fEz4IHl",
    "outputId": "5dc60608-2500-48a3-e040-de1c0e20da7b"
   },
   "outputs": [
    {
     "data": {
      "text/plain": [
       "array([ 0,  1,  2,  3,  4, 50, 60, 70, 80, 90])"
      ]
     },
     "execution_count": 21,
     "metadata": {},
     "output_type": "execute_result"
    }
   ],
   "source": [
    "# np.where(조건식, 참일때, 거짓일때)\n",
    "np.where(temp_arr < 5, temp_arr, temp_arr * 10)"
   ]
  },
  {
   "cell_type": "code",
   "execution_count": 26,
   "metadata": {
    "colab": {
     "base_uri": "https://localhost:8080/"
    },
    "id": "49T4Q2_M5S-_",
    "outputId": "327a4823-c515-4098-835c-101c9e679242"
   },
   "outputs": [
    {
     "data": {
      "text/plain": [
       "array([100, 101,   2,   3,   4,   5,  12,  14,  16,  18])"
      ]
     },
     "execution_count": 26,
     "metadata": {},
     "output_type": "execute_result"
    }
   ],
   "source": [
    "temp_arr = np.arange(10)\n",
    "# temp_arr\n",
    "cond_list = [temp_arr >5, temp_arr <2]\n",
    "choice_list = [temp_arr * 2, temp_arr + 100]\n",
    "\n",
    "# np.select (조건식 리스트, 결괏값리스트, default = )\n",
    "np.select(cond_list, choice_list, default = temp_arr)"
   ]
  },
  {
   "cell_type": "markdown",
   "metadata": {
    "id": "U_fprK_g6dzW"
   },
   "source": [
    "## Reshape\n",
    "- 배열의 차원 또는 크기를 바꾼다\n",
    "- 곱셈만 할 줄 알면 문제없음"
   ]
  },
  {
   "cell_type": "code",
   "execution_count": 28,
   "metadata": {
    "colab": {
     "base_uri": "https://localhost:8080/"
    },
    "id": "1-Gbn1-W6oPe",
    "outputId": "1926f649-e6d4-4a21-eb13-cde3fa8a76be"
   },
   "outputs": [
    {
     "name": "stdout",
     "output_type": "stream",
     "text": [
      "(3, 4)\n",
      "[[1. 1. 1. 1.]\n",
      " [1. 1. 1. 1.]\n",
      " [1. 1. 1. 1.]]\n"
     ]
    }
   ],
   "source": [
    "import numpy as np\n",
    "temp_array = np.ones((3,4))\n",
    "print(temp_array.shape)\n",
    "print(temp_array)"
   ]
  },
  {
   "cell_type": "code",
   "execution_count": 31,
   "metadata": {
    "colab": {
     "base_uri": "https://localhost:8080/"
    },
    "id": "xFaQgTrq67iw",
    "outputId": "c9ea0f28-147b-4009-8945-6b504973816f"
   },
   "outputs": [
    {
     "name": "stdout",
     "output_type": "stream",
     "text": [
      "(1, 12)\n",
      "[[1. 1. 1. 1. 1. 1. 1. 1. 1. 1. 1. 1.]]\n"
     ]
    }
   ],
   "source": [
    "after_reshape = temp_array.reshape(1, 12) #괄호안에 수의 곱이 12로 조합하면 결과실행\n",
    "print(after_reshape.shape)\n",
    "print(after_reshape)"
   ]
  },
  {
   "cell_type": "code",
   "execution_count": 32,
   "metadata": {
    "colab": {
     "base_uri": "https://localhost:8080/"
    },
    "id": "IkyJjiH98BcB",
    "outputId": "d5e582e1-4b83-45ba-bbb1-ad0dc819bf6c"
   },
   "outputs": [
    {
     "name": "stdout",
     "output_type": "stream",
     "text": [
      "(2, 6)\n",
      "[[1. 1. 1. 1. 1. 1.]\n",
      " [1. 1. 1. 1. 1. 1.]]\n"
     ]
    }
   ],
   "source": [
    "after_reshape = temp_array.reshape(2,-1) #-1넣으면 알아서 맞춰줌\n",
    "print(after_reshape.shape)\n",
    "print(after_reshape)"
   ]
  },
  {
   "cell_type": "markdown",
   "metadata": {
    "id": "TxteSv3m8SpA"
   },
   "source": [
    "# 브로드 캐스팅 (중요한 개념, 논문작성시 사용)\n",
    ": 서로 다른 크기의 배열을 연산할때의 기본적인 규칙을 의미한다\n"
   ]
  },
  {
   "cell_type": "markdown",
   "metadata": {
    "id": "HkCwPjIbIIEr"
   },
   "source": [
    "## pandas 튜토리얼\n"
   ]
  },
  {
   "cell_type": "code",
   "execution_count": 34,
   "metadata": {
    "colab": {
     "base_uri": "https://localhost:8080/"
    },
    "id": "o8LK9yB4IMxS",
    "outputId": "473e53b6-6f70-4e7b-831a-683e5b5f6d51"
   },
   "outputs": [
    {
     "name": "stdout",
     "output_type": "stream",
     "text": [
      "1.3.5\n"
     ]
    }
   ],
   "source": [
    "import pandas as pd\n",
    "print(pd.__version__)"
   ]
  },
  {
   "cell_type": "code",
   "execution_count": 35,
   "metadata": {
    "colab": {
     "base_uri": "https://localhost:8080/"
    },
    "id": "0vg4212PIYuJ",
    "outputId": "4b1d57db-82b0-40e9-81c2-e2423c065418"
   },
   "outputs": [
    {
     "name": "stdout",
     "output_type": "stream",
     "text": [
      "   col1  col2\n",
      "0     1     3\n",
      "1     2     4\n",
      "<class 'pandas.core.frame.DataFrame'>\n"
     ]
    }
   ],
   "source": [
    "temp_dict = {\n",
    "    'col1' : [1,2],\n",
    "    'col2' : [3,4]\n",
    "} \n",
    "\n",
    "df = pd.DataFrame(temp_dict)\n",
    "print(df)\n",
    "print(type(df))"
   ]
  },
  {
   "cell_type": "markdown",
   "metadata": {
    "id": "Y4Rl8ToFJRfC"
   },
   "source": [
    "## 구글 드라이브 연동"
   ]
  },
  {
   "cell_type": "code",
   "execution_count": 36,
   "metadata": {
    "colab": {
     "base_uri": "https://localhost:8080/"
    },
    "id": "5V9jiaMtJUeS",
    "outputId": "2b3a52f5-386d-4b53-9f9e-51a950ff071a"
   },
   "outputs": [
    {
     "name": "stdout",
     "output_type": "stream",
     "text": [
      "Mounted at /content/drive\n"
     ]
    }
   ],
   "source": [
    "from google.colab import drive\n",
    "drive.mount('/content/drive')"
   ]
  },
  {
   "cell_type": "code",
   "execution_count": 42,
   "metadata": {
    "colab": {
     "base_uri": "https://localhost:8080/"
    },
    "id": "JPUPgMQyK4jE",
    "outputId": "05abfd3e-4ba6-4fee-e6e0-af3735d3911f"
   },
   "outputs": [
    {
     "name": "stdout",
     "output_type": "stream",
     "text": [
      "<class 'pandas.core.frame.DataFrame'>\n",
      "RangeIndex: 32 entries, 0 to 31\n",
      "Data columns (total 7 columns):\n",
      " #   Column       Non-Null Count  Dtype  \n",
      "---  ------       --------------  -----  \n",
      " 0   Date         31 non-null     object \n",
      " 1   Location     32 non-null     object \n",
      " 2   Lemon        32 non-null     int64  \n",
      " 3   Orange       32 non-null     int64  \n",
      " 4   Temperature  32 non-null     int64  \n",
      " 5   Leaflets     31 non-null     float64\n",
      " 6   Price        32 non-null     float64\n",
      "dtypes: float64(2), int64(3), object(2)\n",
      "memory usage: 1.9+ KB\n"
     ]
    }
   ],
   "source": [
    "DATA_PATH = '/content/drive/MyDrive/Colab Notebooks/human_AI/Basic/Chapter 3. pandas/data/Lemonade2016.csv'\n",
    "lemonade = pd.read_csv(DATA_PATH)\n",
    "\n",
    "lemonade.info() #str\n"
   ]
  }
 ],
 "metadata": {
  "colab": {
   "name": "day0628.ipynb",
   "provenance": []
  },
  "kernelspec": {
   "display_name": "Python 3 (ipykernel)",
   "language": "python",
   "name": "python3"
  },
  "language_info": {
   "codemirror_mode": {
    "name": "ipython",
    "version": 3
   },
   "file_extension": ".py",
   "mimetype": "text/x-python",
   "name": "python",
   "nbconvert_exporter": "python",
   "pygments_lexer": "ipython3",
   "version": "3.9.12"
  }
 },
 "nbformat": 4,
 "nbformat_minor": 4
}
