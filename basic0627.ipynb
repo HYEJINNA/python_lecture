{
  "nbformat": 4,
  "nbformat_minor": 0,
  "metadata": {
    "colab": {
      "name": "basic0627.ipynb",
      "provenance": [],
      "toc_visible": true,
      "authorship_tag": "ABX9TyOCCnE5vKLi623GOdwkApSj",
      "include_colab_link": true
    },
    "kernelspec": {
      "name": "python3",
      "display_name": "Python 3"
    },
    "language_info": {
      "name": "python"
    },
    "accelerator": "GPU",
    "gpuClass": "standard"
  },
  "cells": [
    {
      "cell_type": "markdown",
      "metadata": {
        "id": "view-in-github",
        "colab_type": "text"
      },
      "source": [
        "<a href=\"https://colab.research.google.com/github/HYEJINNA/python_lecture/blob/main/basic0627.ipynb\" target=\"_parent\"><img src=\"https://colab.research.google.com/assets/colab-badge.svg\" alt=\"Open In Colab\"/></a>"
      ]
    },
    {
      "cell_type": "code",
      "execution_count": null,
      "metadata": {
        "colab": {
          "base_uri": "https://localhost:8080/"
        },
        "id": "UPoh135RjzZP",
        "outputId": "945d035f-76d5-485c-fdfd-f4704d3d177f"
      },
      "outputs": [
        {
          "output_type": "stream",
          "name": "stdout",
          "text": [
            "Hello World\n"
          ]
        }
      ],
      "source": [
        "print(\"Hello World\")\n"
      ]
    },
    {
      "cell_type": "code",
      "source": [
        ""
      ],
      "metadata": {
        "id": "EsrsSP2dzhr5"
      },
      "execution_count": null,
      "outputs": []
    },
    {
      "cell_type": "markdown",
      "source": [
        ""
      ],
      "metadata": {
        "id": "Rgz_5jBPzjKy"
      }
    },
    {
      "cell_type": "markdown",
      "source": [
        "## 제목1\n",
        "- 파이썬 입문\n",
        "\n",
        "### 소제목1\n",
        "- 여기는 소제목 \n"
      ],
      "metadata": {
        "id": "wtm6ny4VkAW_"
      }
    },
    {
      "cell_type": "code",
      "source": [
        "print(1+1)"
      ],
      "metadata": {
        "colab": {
          "base_uri": "https://localhost:8080/"
        },
        "id": "pQsvEdlzknrY",
        "outputId": "257606e6-52e0-43f1-ee48-4c75192dbde9"
      },
      "execution_count": null,
      "outputs": [
        {
          "output_type": "stream",
          "name": "stdout",
          "text": [
            "2\n"
          ]
        }
      ]
    },
    {
      "cell_type": "markdown",
      "source": [
        ""
      ],
      "metadata": {
        "id": "e6VlGB0mz-fa"
      }
    },
    {
      "cell_type": "markdown",
      "source": [
        "# print() 함수 사용\n",
        "print "
      ],
      "metadata": {
        "id": "mACYBNMD0KLO"
      }
    },
    {
      "cell_type": "code",
      "source": [
        "# print() 함수사용\n",
        "print (\"1줄 주석\")\n",
        "\n",
        "\"\"\" \n",
        "여러줄 주석 \n",
        "쌍따옴표 3개를 입력해주세요\n",
        "앞과 뒤로 \n",
        "\"\"\"\n",
        "\n",
        "print(\"여러줄 주석\")\n"
      ],
      "metadata": {
        "colab": {
          "base_uri": "https://localhost:8080/"
        },
        "id": "JQiVkeGp0UiJ",
        "outputId": "dd33ccc0-b857-40f0-a261-0b672934a26b"
      },
      "execution_count": null,
      "outputs": [
        {
          "output_type": "stream",
          "name": "stdout",
          "text": [
            "1줄 주석\n",
            "여러줄 주석\n"
          ]
        }
      ]
    },
    {
      "cell_type": "markdown",
      "source": [
        "## 주석처리\n",
        "- 1줄 주석, 여러 줄 주석처리 \n",
        "- 여러 줄 주석처리\n",
        " + 함수 또는 클래스를 문서화 할때 주로 사용\n",
        "\n",
        "- 프로젝트 할때\n",
        " + 전체공정 100\n",
        " + 코드 / 코드 문서화/ 한글작업 문서화\n",
        " \n",
        "  \n",
        "\n"
      ],
      "metadata": {
        "id": "UldKrtjA0x-i"
      }
    },
    {
      "cell_type": "markdown",
      "source": [
        "## 변수 (Scalar)\n",
        "  - 자료형\n",
        "  - Scalar형 Non-Scalar형\n",
        "\n",
        "## 수치형 자료형\n",
        "  - int, float"
      ],
      "metadata": {
        "id": "osBXE8Q8J9f8"
      }
    },
    {
      "cell_type": "code",
      "source": [
        "num_int = 1\n",
        "print(num_int)\n",
        "print(type(num_int))"
      ],
      "metadata": {
        "colab": {
          "base_uri": "https://localhost:8080/"
        },
        "id": "TPVuZWZSKAfi",
        "outputId": "f2604e19-8319-4e68-afeb-75a02e8b86d3"
      },
      "execution_count": 1,
      "outputs": [
        {
          "output_type": "stream",
          "name": "stdout",
          "text": [
            "1\n",
            "<class 'int'>\n"
          ]
        }
      ]
    },
    {
      "cell_type": "code",
      "source": [
        "num_float = 0.1\n",
        "print(num_float)\n",
        "print(type (num_float))"
      ],
      "metadata": {
        "colab": {
          "base_uri": "https://localhost:8080/"
        },
        "id": "xSKAgwXsKHcw",
        "outputId": "2eddd327-ba78-46e0-f5b1-371ab8ac5eb9"
      },
      "execution_count": 2,
      "outputs": [
        {
          "output_type": "stream",
          "name": "stdout",
          "text": [
            "0.1\n",
            "<class 'float'>\n"
          ]
        }
      ]
    },
    {
      "cell_type": "markdown",
      "source": [
        "## None 자료형\n",
        "- Null값, 값이 정해지지 않은 자료형"
      ],
      "metadata": {
        "id": "dL7OAXexKLGb"
      }
    },
    {
      "cell_type": "code",
      "source": [
        "none_x = None\n",
        "print(none_x)\n",
        "print(type(none_x))"
      ],
      "metadata": {
        "colab": {
          "base_uri": "https://localhost:8080/"
        },
        "id": "qpUQ6OLBKL6D",
        "outputId": "83900c59-ee29-446b-c528-437549d78113"
      },
      "execution_count": 3,
      "outputs": [
        {
          "output_type": "stream",
          "name": "stdout",
          "text": [
            "None\n",
            "<class 'NoneType'>\n"
          ]
        }
      ]
    },
    {
      "cell_type": "markdown",
      "source": [
        "## 사칙연산\n",
        "- 정수형  사칙연산, 실수형 사칙연산\n",
        "- 결괏값의 자료형\n",
        "\n",
        "## 정수형 사칙연산"
      ],
      "metadata": {
        "id": "gOHTH5pzKSsq"
      }
    },
    {
      "cell_type": "code",
      "source": [
        "a = 3\n",
        "b = 2\n",
        "print('a + b =', a+b)\n",
        "print('a - b =', a-b)\n",
        "print('a * b =', a*b)\n",
        "print('a / b =', a/b)"
      ],
      "metadata": {
        "colab": {
          "base_uri": "https://localhost:8080/"
        },
        "id": "zML-aujNKTi7",
        "outputId": "aed76a57-5a40-44a9-aeb4-02aa45f7ad9b"
      },
      "execution_count": 6,
      "outputs": [
        {
          "output_type": "stream",
          "name": "stdout",
          "text": [
            "a + b = 5\n",
            "a - b = 1\n",
            "a * b = 6\n",
            "a / b = 1.5\n"
          ]
        }
      ]
    },
    {
      "cell_type": "markdown",
      "source": [
        "## 실수형 사칙연산"
      ],
      "metadata": {
        "id": "YLWGk8KsKl26"
      }
    },
    {
      "cell_type": "code",
      "source": [
        "a = 1.5\n",
        "b = 2.5\n",
        "print('a + b =', a+b)"
      ],
      "metadata": {
        "colab": {
          "base_uri": "https://localhost:8080/"
        },
        "id": "lTevL18nKmnC",
        "outputId": "42266e88-e78f-4676-d656-d5a92cab034c"
      },
      "execution_count": 7,
      "outputs": [
        {
          "output_type": "stream",
          "name": "stdout",
          "text": [
            "a + b = 4.0\n"
          ]
        }
      ]
    },
    {
      "cell_type": "markdown",
      "source": [
        "## 논리형 연산자\n",
        "- Bool 형\n",
        "- True와 False 값으로 정의\n",
        "- 조건식\n",
        " + 교집합(=and), 합집합(=or)"
      ],
      "metadata": {
        "id": "i2O2MfNlKsRq"
      }
    },
    {
      "cell_type": "code",
      "source": [
        "print(True and True)\n",
        "print(True and False)\n",
        "print(False and True)\n",
        "print(False and False)"
      ],
      "metadata": {
        "colab": {
          "base_uri": "https://localhost:8080/"
        },
        "id": "surhA2uqKtDq",
        "outputId": "c883aefb-1cf3-4aa5-f1fa-e363e85e08ac"
      },
      "execution_count": 8,
      "outputs": [
        {
          "output_type": "stream",
          "name": "stdout",
          "text": [
            "True\n",
            "False\n",
            "False\n",
            "False\n"
          ]
        }
      ]
    },
    {
      "cell_type": "code",
      "source": [
        "print(True or True)\n",
        "print(True or False)\n",
        "print(False or True)\n",
        "print(False or False)"
      ],
      "metadata": {
        "colab": {
          "base_uri": "https://localhost:8080/"
        },
        "id": "pqAoa2a-KymL",
        "outputId": "68f8077b-c81a-4fb4-fb5d-b4654e641e18"
      },
      "execution_count": 9,
      "outputs": [
        {
          "output_type": "stream",
          "name": "stdout",
          "text": [
            "True\n",
            "True\n",
            "True\n",
            "False\n"
          ]
        }
      ]
    },
    {
      "cell_type": "markdown",
      "source": [
        "## 비교 연산자\n",
        "- 비교 연산자는 부동호를 의미한다"
      ],
      "metadata": {
        "id": "bdtL-2r0K4Q5"
      }
    },
    {
      "cell_type": "code",
      "source": [
        "print(4>3) # 참 = True\n",
        "print(4<3) # 거짓 = False\n",
        "\n",
        "print(4>3 or 4<3) #False"
      ],
      "metadata": {
        "colab": {
          "base_uri": "https://localhost:8080/"
        },
        "id": "O8sJ223IK63Z",
        "outputId": "a526cad6-f95c-4070-c293-094600125494"
      },
      "execution_count": 10,
      "outputs": [
        {
          "output_type": "stream",
          "name": "stdout",
          "text": [
            "True\n",
            "False\n",
            "True\n"
          ]
        }
      ]
    },
    {
      "cell_type": "markdown",
      "source": [
        "## 논리형 & 비교 연산자 응용\n",
        "\n",
        "- input ()\n",
        "- 형변환\n",
        "- 데이터를 타입으로 바꾸는 것"
      ],
      "metadata": {
        "id": "-z_6a-OGLAoa"
      }
    },
    {
      "cell_type": "code",
      "source": [
        "var = input(\"숫자를 입력하세요!\")\n",
        "print(var)\n",
        "print(type(var))"
      ],
      "metadata": {
        "colab": {
          "base_uri": "https://localhost:8080/"
        },
        "id": "pzqteJ3nLBYC",
        "outputId": "15c732f2-dfea-4101-a106-2a03dbad40fe"
      },
      "execution_count": 14,
      "outputs": [
        {
          "output_type": "stream",
          "name": "stdout",
          "text": [
            "숫자를 입력하세요!1\n",
            "1\n",
            "<class 'str'>\n"
          ]
        }
      ]
    },
    {
      "cell_type": "code",
      "source": [
        "var = int(input(\"숫자를 입력하세요!\"))\n",
        "print(var)\n",
        "print(type(var))"
      ],
      "metadata": {
        "colab": {
          "base_uri": "https://localhost:8080/"
        },
        "id": "8tdwtxB-LhLt",
        "outputId": "c4770469-8853-41ea-b35d-781aed3e090b"
      },
      "execution_count": 15,
      "outputs": [
        {
          "output_type": "stream",
          "name": "stdout",
          "text": [
            "숫자를 입력하세요!8\n",
            "8\n",
            "<class 'int'>\n"
          ]
        }
      ]
    },
    {
      "cell_type": "code",
      "source": [
        "num1 = int(input(\"첫 번째 숫자를 입력하세요!\"))\n",
        "num2 = int(input(\"두 번째 숫자를 입력하세요!\"))\n",
        "num3 = int(input(\"세 번째 숫자를 입력하세요!\"))\n",
        "num4 = int(input(\"네 번째 숫자를 입력하세요!\"))"
      ],
      "metadata": {
        "colab": {
          "base_uri": "https://localhost:8080/"
        },
        "id": "TIw9XqO_LnBN",
        "outputId": "48751043-1d14-4b82-b7a4-273fb816e066"
      },
      "execution_count": 16,
      "outputs": [
        {
          "name": "stdout",
          "output_type": "stream",
          "text": [
            "첫 번째 숫자를 입력하세요!4\n",
            "두 번째 숫자를 입력하세요!100\n",
            "세 번째 숫자를 입력하세요!8\n",
            "네 번째 숫자를 입력하세요!200\n"
          ]
        }
      ]
    },
    {
      "cell_type": "code",
      "source": [
        "var1 = num1 >= num2 # False\n",
        "var2 = num3 < num4 # True\n",
        "\n",
        "print(var1 and var2) # True\n"
      ],
      "metadata": {
        "colab": {
          "base_uri": "https://localhost:8080/"
        },
        "id": "JyyosNxuLtBi",
        "outputId": "287fade6-8870-4930-9b86-867c8b098141"
      },
      "execution_count": 17,
      "outputs": [
        {
          "output_type": "stream",
          "name": "stdout",
          "text": [
            "False\n"
          ]
        }
      ]
    },
    {
      "cell_type": "markdown",
      "source": [
        "## String\n",
        "- Non Scalar"
      ],
      "metadata": {
        "id": "0khVVR1iLyta"
      }
    },
    {
      "cell_type": "code",
      "source": [
        "print('Hello World')\n",
        "print(\"Hello World\")\n",
        "\n",
        "print(\"'Hellp World'\")\n",
        "print('\"Hellp World\"')"
      ],
      "metadata": {
        "colab": {
          "base_uri": "https://localhost:8080/"
        },
        "id": "T1CSxvmmLziB",
        "outputId": "b8f15b90-0013-4d7c-8ddf-3be5eafa263b"
      },
      "execution_count": 18,
      "outputs": [
        {
          "output_type": "stream",
          "name": "stdout",
          "text": [
            "Hello World\n",
            "Hello World\n",
            "'Hellp World'\n",
            "\"Hellp World\"\n"
          ]
        }
      ]
    },
    {
      "cell_type": "markdown",
      "source": [
        "## String Operatos\n",
        "- 문자열 연산자\n",
        "- +,*가능"
      ],
      "metadata": {
        "id": "PXvQhf6fL4y5"
      }
    },
    {
      "cell_type": "code",
      "source": [
        "str1 = \"Hello\"\n",
        "str2 = \"World\"\n",
        "print(str1 + str2)"
      ],
      "metadata": {
        "colab": {
          "base_uri": "https://localhost:8080/"
        },
        "id": "x3VwSmX8L5gS",
        "outputId": "e5b6bc9a-4c73-46d9-b281-c3ce490a419c"
      },
      "execution_count": 19,
      "outputs": [
        {
          "output_type": "stream",
          "name": "stdout",
          "text": [
            "HelloWorld\n"
          ]
        }
      ]
    },
    {
      "cell_type": "markdown",
      "source": [
        "## 문자열 인덱싱\n",
        "- 인덱싱은 0번째 부터 시작"
      ],
      "metadata": {
        "id": "KNN85Q4khxQS"
      }
    },
    {
      "cell_type": "code",
      "source": [
        "greeting = \"Hello Kaggle\"\n",
        "i = 7\n",
        "# print(greeting)\n",
        "print(greeting[i])\n",
        "print(greeting[7])"
      ],
      "metadata": {
        "colab": {
          "base_uri": "https://localhost:8080/"
        },
        "id": "_ZADIWdvh4WR",
        "outputId": "4f4b6ce1-4718-4762-a614-941ba2c29319"
      },
      "execution_count": 5,
      "outputs": [
        {
          "output_type": "stream",
          "name": "stdout",
          "text": [
            "a\n",
            "a\n"
          ]
        }
      ]
    },
    {
      "cell_type": "code",
      "source": [
        "greeting = \"Hello Kaggle\"\n",
        "i = int(input(\"숫자를 입력하세요!\"))\n",
        "print(greeting[i])\n"
      ],
      "metadata": {
        "colab": {
          "base_uri": "https://localhost:8080/"
        },
        "id": "tRo3_4wSikZb",
        "outputId": "5960d974-6716-4664-aca5-70dc0623ab1a"
      },
      "execution_count": 6,
      "outputs": [
        {
          "output_type": "stream",
          "name": "stdout",
          "text": [
            "숫자를 입력하세요!6\n",
            "K\n"
          ]
        }
      ]
    },
    {
      "cell_type": "markdown",
      "source": [
        "## 슬라이싱"
      ],
      "metadata": {
        "id": "DhJU2A8Bi1Cz"
      }
    },
    {
      "cell_type": "code",
      "source": [
        "greeting = \"Hello Kaggle\"\n",
        "# print(greeting[시작인덱스: 끝인덱스-1]) > 외우는 방법밖에 없음\n",
        "print(greeting[0:2])\n",
        "print(greeting[:8])\n",
        "print(greeting[6:])\n",
        "print(greeting[0:10:2])\n",
        "print(greeting[0:10:3])\n",
        "print(greeting[0:10:4])"
      ],
      "metadata": {
        "colab": {
          "base_uri": "https://localhost:8080/"
        },
        "id": "zkfzXvhWi3Na",
        "outputId": "5e031afc-09d3-4f5a-f2a0-040f1a7f8674"
      },
      "execution_count": 14,
      "outputs": [
        {
          "output_type": "stream",
          "name": "stdout",
          "text": [
            "He\n",
            "Hello Ka\n",
            "Kaggle\n",
            "HloKg\n",
            "HlKg\n",
            "Hog\n"
          ]
        }
      ]
    },
    {
      "cell_type": "code",
      "source": [
        "alphabet_letter = \"abcdefghijklmnopqsrtuvwxyz\"\n",
        "print(alphabet_letter[0:5:2])"
      ],
      "metadata": {
        "colab": {
          "base_uri": "https://localhost:8080/"
        },
        "id": "23QLXj-Hkx4a",
        "outputId": "b7f01efb-29c1-48c4-d3bf-d9b3729c0a6d"
      },
      "execution_count": 18,
      "outputs": [
        {
          "output_type": "stream",
          "name": "stdout",
          "text": [
            "ace\n"
          ]
        }
      ]
    },
    {
      "cell_type": "code",
      "source": [
        "greeting = \"Hello Kaggle\"\n",
        "print(greeting[11])"
      ],
      "metadata": {
        "colab": {
          "base_uri": "https://localhost:8080/"
        },
        "id": "OuENfU5ilbui",
        "outputId": "d5e374f3-6b7d-45fe-d917-1384b1542b56"
      },
      "execution_count": 20,
      "outputs": [
        {
          "output_type": "stream",
          "name": "stdout",
          "text": [
            "e\n"
          ]
        }
      ]
    },
    {
      "cell_type": "markdown",
      "source": [
        "## 문자열 관련 메서드 \n",
        " + split( )\n",
        " + sort()\n",
        " + etc"
      ],
      "metadata": {
        "id": "5OkY5keSl-Ji"
      }
    },
    {
      "cell_type": "markdown",
      "source": [
        "## 리스트 \n",
        "- [ ] 로 표시 \n",
        "- [item, item2, item3]\n"
      ],
      "metadata": {
        "id": "he349JAmmLaS"
      }
    },
    {
      "cell_type": "code",
      "source": [
        "a = [] # 빈리스트 \n",
        "a_func = list() # 빈 리스트 생성\n",
        "b = [1]\n",
        "d = [1,2,['apple'], 'apple']\n",
        "print(d)"
      ],
      "metadata": {
        "colab": {
          "base_uri": "https://localhost:8080/"
        },
        "id": "AhpHjWJ7mj3Z",
        "outputId": "c45a9c93-9ad6-4e82-ed5b-75467d53c777"
      },
      "execution_count": 23,
      "outputs": [
        {
          "output_type": "stream",
          "name": "stdout",
          "text": [
            "[1, 2, ['apple'], 'apple']\n"
          ]
        }
      ]
    },
    {
      "cell_type": "markdown",
      "source": [
        "## 리스트 값 수정하기\n",
        "- 리스트 값 수정"
      ],
      "metadata": {
        "id": "h8Z-O0tLnQcB"
      }
    },
    {
      "cell_type": "code",
      "source": [
        "a = [0, 1, 2]\n",
        "a[0] = \"값\"\n",
        "print(a\n",
        "      )"
      ],
      "metadata": {
        "colab": {
          "base_uri": "https://localhost:8080/"
        },
        "id": "bI5Ji3HAnVgI",
        "outputId": "2ae94c69-ba8c-445f-cefa-e4dd7ab483ba"
      },
      "execution_count": 24,
      "outputs": [
        {
          "output_type": "stream",
          "name": "stdout",
          "text": [
            "[0, '값', 2]\n"
          ]
        }
      ]
    },
    {
      "cell_type": "markdown",
      "source": [
        "## 리스트 값 추가하기 \n",
        "- 메서드 사용"
      ],
      "metadata": {
        "id": "MrrzzDhjnp1R"
      }
    },
    {
      "cell_type": "code",
      "source": [
        "a = [100, 200, 300]\n",
        "a.append(400)\n",
        "\n",
        "print(a)\n",
        "\n",
        "a.append([500,600])\n",
        "print(a)\n"
      ],
      "metadata": {
        "colab": {
          "base_uri": "https://localhost:8080/"
        },
        "id": "bCQTsOqynv-q",
        "outputId": "73372c52-044a-414f-d89d-b9048c95b54a"
      },
      "execution_count": 27,
      "outputs": [
        {
          "output_type": "stream",
          "name": "stdout",
          "text": [
            "[100, 200, 300, 400]\n",
            "[100, 200, 300, 400, [500, 600]]\n"
          ]
        }
      ]
    },
    {
      "cell_type": "code",
      "source": [
        "a = [100, 200, 300]\n",
        "a.append(400)\n",
        "\n",
        "print(a)\n",
        "\n",
        "a.extend([400,500])\n",
        "print(a)"
      ],
      "metadata": {
        "colab": {
          "base_uri": "https://localhost:8080/"
        },
        "id": "DTsQgx0togOR",
        "outputId": "1d5ef253-1071-445a-df84-e0dfa995cba1"
      },
      "execution_count": 29,
      "outputs": [
        {
          "output_type": "stream",
          "name": "stdout",
          "text": [
            "[100, 200, 300, 400]\n",
            "[100, 200, 300, 400, 400, 500]\n"
          ]
        }
      ]
    },
    {
      "cell_type": "markdown",
      "source": [
        "## 삽입\n",
        "- insert(인덱스 위치, 값)"
      ],
      "metadata": {
        "id": "W7GqGMvQpNRC"
      }
    },
    {
      "cell_type": "code",
      "source": [
        "a = [100,200,300]\n",
        "a.insert(1,1000)\n",
        "print(a)"
      ],
      "metadata": {
        "colab": {
          "base_uri": "https://localhost:8080/"
        },
        "id": "1-hW8WDypVkh",
        "outputId": "5b7d6c15-9cea-409f-b4f1-5a1d98961e87"
      },
      "execution_count": 30,
      "outputs": [
        {
          "output_type": "stream",
          "name": "stdout",
          "text": [
            "[100, 1000, 200, 300]\n"
          ]
        }
      ]
    },
    {
      "cell_type": "markdown",
      "source": [
        "## 리스트 값 삭제하기 \n",
        "- remove(),del"
      ],
      "metadata": {
        "id": "B7niknNepoqp"
      }
    },
    {
      "cell_type": "code",
      "source": [
        "a = [1,2,1,2,10]\n",
        "a.remove(10)\n",
        "print(a)"
      ],
      "metadata": {
        "colab": {
          "base_uri": "https://localhost:8080/"
        },
        "id": "R19xucVFpuyx",
        "outputId": "ab70144e-3207-44e1-e7b1-ed18bbc442b0"
      },
      "execution_count": 33,
      "outputs": [
        {
          "output_type": "stream",
          "name": "stdout",
          "text": [
            "[1, 2, 1, 2]\n"
          ]
        }
      ]
    },
    {
      "cell_type": "markdown",
      "source": [
        "- del"
      ],
      "metadata": {
        "id": "RBNJ1p4uqDuZ"
      }
    },
    {
      "cell_type": "code",
      "source": [
        "a = [0,1,2,3,4]\n",
        "del a[1]\n",
        "print(a)\n",
        "\n",
        "del a[0:2]\n",
        "print(a)"
      ],
      "metadata": {
        "colab": {
          "base_uri": "https://localhost:8080/"
        },
        "id": "lnWZhxGGqJ-4",
        "outputId": "fbf869fd-b977-4203-cb30-13e621d263c7"
      },
      "execution_count": 36,
      "outputs": [
        {
          "output_type": "stream",
          "name": "stdout",
          "text": [
            "[0, 2, 3, 4]\n",
            "[3, 4]\n"
          ]
        }
      ]
    },
    {
      "cell_type": "markdown",
      "source": [
        "- pop()"
      ],
      "metadata": {
        "id": "XoD8t7BVuV-K"
      }
    },
    {
      "cell_type": "code",
      "source": [
        "a = [1,2,3,4,5]\n",
        "a.pop(1)\n",
        "\n",
        "print(a)"
      ],
      "metadata": {
        "colab": {
          "base_uri": "https://localhost:8080/"
        },
        "id": "VBQNDfwnubQv",
        "outputId": "b41c12d9-c06e-45de-d76b-56270a106915"
      },
      "execution_count": 37,
      "outputs": [
        {
          "output_type": "stream",
          "name": "stdout",
          "text": [
            "[1, 3, 4, 5]\n"
          ]
        }
      ]
    },
    {
      "cell_type": "code",
      "source": [
        "a = [1,2,3,4,5]\n",
        "rem = a.pop(1)\n",
        "print(a)\n",
        "print(rem)\n",
        "x= a.pop()\n",
        "print(a)\n",
        "print(x)"
      ],
      "metadata": {
        "colab": {
          "base_uri": "https://localhost:8080/"
        },
        "id": "QvJGD1isumhA",
        "outputId": "34532960-6b45-4422-b20c-c48ddf64cbb3"
      },
      "execution_count": 39,
      "outputs": [
        {
          "output_type": "stream",
          "name": "stdout",
          "text": [
            "[1, 3, 4, 5]\n",
            "2\n",
            "[1, 3, 4]\n",
            "5\n"
          ]
        }
      ]
    },
    {
      "cell_type": "markdown",
      "source": [
        "- clear(): 리스트 내 모든 값 삭제 \n",
        "\n",
        "- index(\"값\"): 값의 위치를 불러옴"
      ],
      "metadata": {
        "id": "sNUwahp_vfIo"
      }
    },
    {
      "cell_type": "code",
      "source": [
        "a = [1,4,5,2,3,]\n",
        "b = [\"철수\",\"영희\",\"길동\"]\n",
        "a.index(4)\n",
        "print(a,a.index(4))\n",
        "print(b,b.index(\"길동\"))\n"
      ],
      "metadata": {
        "colab": {
          "base_uri": "https://localhost:8080/"
        },
        "id": "7uAdyJbyvsrU",
        "outputId": "287964bc-4e01-4502-9d97-171ad33866a1"
      },
      "execution_count": 42,
      "outputs": [
        {
          "output_type": "stream",
          "name": "stdout",
          "text": [
            "[1, 4, 5, 2, 3] 1\n",
            "['철수', '영희', '길동'] 2\n"
          ]
        }
      ]
    },
    {
      "cell_type": "markdown",
      "source": [
        "- sort: 리스트의 정렬"
      ],
      "metadata": {
        "id": "10qrdHT7wOyG"
      }
    },
    {
      "cell_type": "code",
      "source": [
        "a = [14,5,2,3]\n",
        "a.sort()\n",
        "a.sort(reverse=True)\n",
        "print(a)\n",
        "\n",
        "# help(list.sort)\n",
        "help(list.index)\n"
      ],
      "metadata": {
        "colab": {
          "base_uri": "https://localhost:8080/"
        },
        "id": "gmH7xwocwSQm",
        "outputId": "cfc72ea5-8f4a-415f-916d-29ce038dca1a"
      },
      "execution_count": 49,
      "outputs": [
        {
          "output_type": "stream",
          "name": "stdout",
          "text": [
            "[14, 5, 3, 2]\n",
            "Help on method_descriptor:\n",
            "\n",
            "index(self, value, start=0, stop=9223372036854775807, /)\n",
            "    Return first index of value.\n",
            "    \n",
            "    Raises ValueError if the value is not present.\n",
            "\n"
          ]
        }
      ]
    },
    {
      "cell_type": "markdown",
      "source": [
        "## 튜플\n",
        "- 면접질문 : 리스트와 튜플의 차이가 뭐에요?\n",
        "간단명료하게 대답\n",
        "- 리스트 : []\n",
        " + 수정, 삭제, 추가\n",
        "- 튜플 : () \n",
        " + 모두 안됨\n",
        " + 조금 더 빠르게 실행된다는 얘기가 있음"
      ],
      "metadata": {
        "id": "rYaITMwtyC6u"
      }
    },
    {
      "cell_type": "code",
      "source": [
        "tuple1 = (0)\n",
        "tuple2 = (0,)\n",
        "tuple3 = 0,1,2\n",
        "\n",
        "print(type(tuple1))\n",
        "print(type(tuple2))\n",
        "print(type(tuple3))\n",
        "\n",
        "print(tuple1)\n",
        "print(tuple2)\n",
        "print(tuple3)"
      ],
      "metadata": {
        "colab": {
          "base_uri": "https://localhost:8080/"
        },
        "id": "GGsynqzQyrIW",
        "outputId": "5e1b1365-aa8d-43c4-bf0e-a08cd19a9e74"
      },
      "execution_count": 51,
      "outputs": [
        {
          "output_type": "stream",
          "name": "stdout",
          "text": [
            "<class 'int'>\n",
            "<class 'tuple'>\n",
            "<class 'tuple'>\n",
            "0\n",
            "(0,)\n",
            "(0, 1, 2)\n"
          ]
        }
      ]
    },
    {
      "cell_type": "code",
      "source": [
        "a = (0,1,2,3,'a')\n",
        "del a[4]"
      ],
      "metadata": {
        "colab": {
          "base_uri": "https://localhost:8080/",
          "height": 191
        },
        "id": "aIjYKqY8zWv3",
        "outputId": "92aebfed-fd56-40d4-ecdb-21d48161737f"
      },
      "execution_count": 52,
      "outputs": [
        {
          "output_type": "error",
          "ename": "TypeError",
          "evalue": "ignored",
          "traceback": [
            "\u001b[0;31m---------------------------------------------------------------------------\u001b[0m",
            "\u001b[0;31mTypeError\u001b[0m                                 Traceback (most recent call last)",
            "\u001b[0;32m<ipython-input-52-2674375e5bd4>\u001b[0m in \u001b[0;36m<module>\u001b[0;34m()\u001b[0m\n\u001b[1;32m      1\u001b[0m \u001b[0ma\u001b[0m \u001b[0;34m=\u001b[0m \u001b[0;34m(\u001b[0m\u001b[0;36m0\u001b[0m\u001b[0;34m,\u001b[0m\u001b[0;36m1\u001b[0m\u001b[0;34m,\u001b[0m\u001b[0;36m2\u001b[0m\u001b[0;34m,\u001b[0m\u001b[0;36m3\u001b[0m\u001b[0;34m,\u001b[0m\u001b[0;34m'a'\u001b[0m\u001b[0;34m)\u001b[0m\u001b[0;34m\u001b[0m\u001b[0;34m\u001b[0m\u001b[0m\n\u001b[0;32m----> 2\u001b[0;31m \u001b[0;32mdel\u001b[0m \u001b[0ma\u001b[0m\u001b[0;34m[\u001b[0m\u001b[0;36m4\u001b[0m\u001b[0;34m]\u001b[0m\u001b[0;34m\u001b[0m\u001b[0;34m\u001b[0m\u001b[0m\n\u001b[0m",
            "\u001b[0;31mTypeError\u001b[0m: 'tuple' object doesn't support item deletion"
          ]
        }
      ]
    },
    {
      "cell_type": "code",
      "source": [
        "a = (0,1,2,3,'a')\n",
        "a[4] = 4\n",
        "print(a)"
      ],
      "metadata": {
        "colab": {
          "base_uri": "https://localhost:8080/",
          "height": 210
        },
        "id": "0De9NEzM0S1F",
        "outputId": "5a5886a2-8a05-4aa0-f85d-c0d5ce47529a"
      },
      "execution_count": 53,
      "outputs": [
        {
          "output_type": "error",
          "ename": "TypeError",
          "evalue": "ignored",
          "traceback": [
            "\u001b[0;31m---------------------------------------------------------------------------\u001b[0m",
            "\u001b[0;31mTypeError\u001b[0m                                 Traceback (most recent call last)",
            "\u001b[0;32m<ipython-input-53-de27a2d07797>\u001b[0m in \u001b[0;36m<module>\u001b[0;34m()\u001b[0m\n\u001b[1;32m      1\u001b[0m \u001b[0ma\u001b[0m \u001b[0;34m=\u001b[0m \u001b[0;34m(\u001b[0m\u001b[0;36m0\u001b[0m\u001b[0;34m,\u001b[0m\u001b[0;36m1\u001b[0m\u001b[0;34m,\u001b[0m\u001b[0;36m2\u001b[0m\u001b[0;34m,\u001b[0m\u001b[0;36m3\u001b[0m\u001b[0;34m,\u001b[0m\u001b[0;34m'a'\u001b[0m\u001b[0;34m)\u001b[0m\u001b[0;34m\u001b[0m\u001b[0;34m\u001b[0m\u001b[0m\n\u001b[0;32m----> 2\u001b[0;31m \u001b[0ma\u001b[0m\u001b[0;34m[\u001b[0m\u001b[0;36m4\u001b[0m\u001b[0;34m]\u001b[0m \u001b[0;34m=\u001b[0m \u001b[0;36m4\u001b[0m\u001b[0;34m\u001b[0m\u001b[0;34m\u001b[0m\u001b[0m\n\u001b[0m\u001b[1;32m      3\u001b[0m \u001b[0mprint\u001b[0m\u001b[0;34m(\u001b[0m\u001b[0ma\u001b[0m\u001b[0;34m)\u001b[0m\u001b[0;34m\u001b[0m\u001b[0;34m\u001b[0m\u001b[0m\n",
            "\u001b[0;31mTypeError\u001b[0m: 'tuple' object does not support item assignment"
          ]
        }
      ]
    },
    {
      "cell_type": "markdown",
      "source": [
        "## 튜플연산자\n",
        "- 문자열 연산자\n",
        "- +,*"
      ],
      "metadata": {
        "id": "WVbUAMQw0-MN"
      }
    },
    {
      "cell_type": "code",
      "source": [
        "t1 = [0,1,2]\n",
        "t2 = [3,4,5]\n",
        "print(t1+t2)"
      ],
      "metadata": {
        "colab": {
          "base_uri": "https://localhost:8080/"
        },
        "id": "h4Djsk5g1EGr",
        "outputId": "e40ef1fd-bbef-4d8a-c945-5349932a1f15"
      },
      "execution_count": 54,
      "outputs": [
        {
          "output_type": "stream",
          "name": "stdout",
          "text": [
            "[0, 1, 2, 3, 4, 5]\n"
          ]
        }
      ]
    },
    {
      "cell_type": "markdown",
      "source": [
        "## 딕셔너리\n",
        "- Key(키)와 Value(값)으로 구성됨\n",
        "- 슬라이싱! = (값의 순서가 존재해야 한다)\n",
        "- 순서라는 개념 자체가 존재하지 않는다 "
      ],
      "metadata": {
        "id": "wsNKac751_tl"
      }
    },
    {
      "cell_type": "code",
      "source": [
        "temp_dict = {'teacher':'evan',\n",
        "             'class':15,\n",
        "             'student':['s1','s2','s3']}\n",
        "print(temp_dict['teacher'])\n",
        "print(temp_dict['class'])\n",
        "print(temp_dict['student'])\n",
        "\n"
      ],
      "metadata": {
        "colab": {
          "base_uri": "https://localhost:8080/"
        },
        "id": "U6UXhiFH2T8U",
        "outputId": "db11dc25-23f8-4744-bf33-150fb8506bc7"
      },
      "execution_count": 58,
      "outputs": [
        {
          "output_type": "stream",
          "name": "stdout",
          "text": [
            "evan\n",
            "15\n",
            "['s1', 's2', 's3']\n"
          ]
        }
      ]
    },
    {
      "cell_type": "markdown",
      "source": [
        "- keys()값만 출력"
      ],
      "metadata": {
        "id": "GwIo6dXg79W3"
      }
    },
    {
      "cell_type": "code",
      "source": [
        "temp_dict.keys()\n"
      ],
      "metadata": {
        "colab": {
          "base_uri": "https://localhost:8080/"
        },
        "id": "85R2kojl70KK",
        "outputId": "414544af-2e72-451f-e989-7149576cf131"
      },
      "execution_count": 59,
      "outputs": [
        {
          "output_type": "execute_result",
          "data": {
            "text/plain": [
              "dict_keys(['teacher', 'class', 'student'])"
            ]
          },
          "metadata": {},
          "execution_count": 59
        }
      ]
    },
    {
      "cell_type": "code",
      "source": [
        "list(temp_dict.keys())"
      ],
      "metadata": {
        "colab": {
          "base_uri": "https://localhost:8080/"
        },
        "id": "UqPXz2Q-8Pzz",
        "outputId": "70dd9385-4c53-4706-fe84-49a66b3107fc"
      },
      "execution_count": 60,
      "outputs": [
        {
          "output_type": "execute_result",
          "data": {
            "text/plain": [
              "['teacher', 'class', 'student']"
            ]
          },
          "metadata": {},
          "execution_count": 60
        }
      ]
    },
    {
      "cell_type": "markdown",
      "source": [
        "- values()값만 출력"
      ],
      "metadata": {
        "id": "oXnXTPfV8Vor"
      }
    },
    {
      "cell_type": "code",
      "source": [
        "temp_dict.values()"
      ],
      "metadata": {
        "colab": {
          "base_uri": "https://localhost:8080/"
        },
        "id": "kDmZThm88ZtT",
        "outputId": "5958a489-ebde-49e9-fb27-021790da018d"
      },
      "execution_count": 61,
      "outputs": [
        {
          "output_type": "execute_result",
          "data": {
            "text/plain": [
              "dict_values(['evan', 15, ['s1', 's2', 's3']])"
            ]
          },
          "metadata": {},
          "execution_count": 61
        }
      ]
    },
    {
      "cell_type": "markdown",
      "source": [
        "- items() key-value 쌍으로, list와 tuple형태로 변환"
      ],
      "metadata": {
        "id": "JaqiRNXr8hGC"
      }
    },
    {
      "cell_type": "code",
      "source": [
        "temp_dict.items()"
      ],
      "metadata": {
        "colab": {
          "base_uri": "https://localhost:8080/"
        },
        "id": "9_HrrC0H8rE7",
        "outputId": "e6ba27a3-b6f1-4ead-e015-144b837bd305"
      },
      "execution_count": 65,
      "outputs": [
        {
          "output_type": "execute_result",
          "data": {
            "text/plain": [
              "dict_items([('teacher', 'evan'), ('class', 15), ('student', ['s1', 's2', 's3'])])"
            ]
          },
          "metadata": {},
          "execution_count": 65
        }
      ]
    },
    {
      "cell_type": "markdown",
      "source": [
        "## 조건문"
      ],
      "metadata": {
        "id": "t_Or-BR49GkD"
      }
    },
    {
      "cell_type": "code",
      "source": [
        "a = int(input(\"숫자를 입력하세요!\"))\n",
        "if a>5:\n",
        "  print(\"a는 5보다 크다\")\n",
        "elif a>0:\n",
        "  print(\"a는 0보다 크다\")\n",
        "elif a>-5:\n",
        "  print(\"a는 -5보다 크다\")\n",
        "else:\n",
        "  print(\"a는 매우작다\")"
      ],
      "metadata": {
        "colab": {
          "base_uri": "https://localhost:8080/"
        },
        "id": "2P08JM3A9JzD",
        "outputId": "39438ace-bf25-41a4-ea23-87e877330ed5"
      },
      "execution_count": 71,
      "outputs": [
        {
          "output_type": "stream",
          "name": "stdout",
          "text": [
            "숫자를 입력하세요!8\n",
            "a는 5보다 크다\n"
          ]
        }
      ]
    },
    {
      "cell_type": "markdown",
      "source": [
        "## 반복문"
      ],
      "metadata": {
        "id": "nK60R341_mJS"
      }
    },
    {
      "cell_type": "code",
      "source": [
        "# Hello World를 100번 출력하세요\n",
        "for i in range(100):  #i : idx\n",
        "  print(i)\n",
        " # print(\"Hello World\") \n",
        "  print(i+1,\"Hello World\")\n",
        "\n",
        "\n"
      ],
      "metadata": {
        "colab": {
          "base_uri": "https://localhost:8080/"
        },
        "id": "5YpJ9Qep_qBC",
        "outputId": "68f38538-4ea0-47b0-caef-8a4261b39c5c"
      },
      "execution_count": 79,
      "outputs": [
        {
          "output_type": "stream",
          "name": "stdout",
          "text": [
            "0\n",
            "1 Hello World\n",
            "1\n",
            "2 Hello World\n",
            "2\n",
            "3 Hello World\n",
            "3\n",
            "4 Hello World\n",
            "4\n",
            "5 Hello World\n",
            "5\n",
            "6 Hello World\n",
            "6\n",
            "7 Hello World\n",
            "7\n",
            "8 Hello World\n",
            "8\n",
            "9 Hello World\n",
            "9\n",
            "10 Hello World\n",
            "10\n",
            "11 Hello World\n",
            "11\n",
            "12 Hello World\n",
            "12\n",
            "13 Hello World\n",
            "13\n",
            "14 Hello World\n",
            "14\n",
            "15 Hello World\n",
            "15\n",
            "16 Hello World\n",
            "16\n",
            "17 Hello World\n",
            "17\n",
            "18 Hello World\n",
            "18\n",
            "19 Hello World\n",
            "19\n",
            "20 Hello World\n",
            "20\n",
            "21 Hello World\n",
            "21\n",
            "22 Hello World\n",
            "22\n",
            "23 Hello World\n",
            "23\n",
            "24 Hello World\n",
            "24\n",
            "25 Hello World\n",
            "25\n",
            "26 Hello World\n",
            "26\n",
            "27 Hello World\n",
            "27\n",
            "28 Hello World\n",
            "28\n",
            "29 Hello World\n",
            "29\n",
            "30 Hello World\n",
            "30\n",
            "31 Hello World\n",
            "31\n",
            "32 Hello World\n",
            "32\n",
            "33 Hello World\n",
            "33\n",
            "34 Hello World\n",
            "34\n",
            "35 Hello World\n",
            "35\n",
            "36 Hello World\n",
            "36\n",
            "37 Hello World\n",
            "37\n",
            "38 Hello World\n",
            "38\n",
            "39 Hello World\n",
            "39\n",
            "40 Hello World\n",
            "40\n",
            "41 Hello World\n",
            "41\n",
            "42 Hello World\n",
            "42\n",
            "43 Hello World\n",
            "43\n",
            "44 Hello World\n",
            "44\n",
            "45 Hello World\n",
            "45\n",
            "46 Hello World\n",
            "46\n",
            "47 Hello World\n",
            "47\n",
            "48 Hello World\n",
            "48\n",
            "49 Hello World\n",
            "49\n",
            "50 Hello World\n",
            "50\n",
            "51 Hello World\n",
            "51\n",
            "52 Hello World\n",
            "52\n",
            "53 Hello World\n",
            "53\n",
            "54 Hello World\n",
            "54\n",
            "55 Hello World\n",
            "55\n",
            "56 Hello World\n",
            "56\n",
            "57 Hello World\n",
            "57\n",
            "58 Hello World\n",
            "58\n",
            "59 Hello World\n",
            "59\n",
            "60 Hello World\n",
            "60\n",
            "61 Hello World\n",
            "61\n",
            "62 Hello World\n",
            "62\n",
            "63 Hello World\n",
            "63\n",
            "64 Hello World\n",
            "64\n",
            "65 Hello World\n",
            "65\n",
            "66 Hello World\n",
            "66\n",
            "67 Hello World\n",
            "67\n",
            "68 Hello World\n",
            "68\n",
            "69 Hello World\n",
            "69\n",
            "70 Hello World\n",
            "70\n",
            "71 Hello World\n",
            "71\n",
            "72 Hello World\n",
            "72\n",
            "73 Hello World\n",
            "73\n",
            "74 Hello World\n",
            "74\n",
            "75 Hello World\n",
            "75\n",
            "76 Hello World\n",
            "76\n",
            "77 Hello World\n",
            "77\n",
            "78 Hello World\n",
            "78\n",
            "79 Hello World\n",
            "79\n",
            "80 Hello World\n",
            "80\n",
            "81 Hello World\n",
            "81\n",
            "82 Hello World\n",
            "82\n",
            "83 Hello World\n",
            "83\n",
            "84 Hello World\n",
            "84\n",
            "85 Hello World\n",
            "85\n",
            "86 Hello World\n",
            "86\n",
            "87 Hello World\n",
            "87\n",
            "88 Hello World\n",
            "88\n",
            "89 Hello World\n",
            "89\n",
            "90 Hello World\n",
            "90\n",
            "91 Hello World\n",
            "91\n",
            "92 Hello World\n",
            "92\n",
            "93 Hello World\n",
            "93\n",
            "94 Hello World\n",
            "94\n",
            "95 Hello World\n",
            "95\n",
            "96 Hello World\n",
            "96\n",
            "97 Hello World\n",
            "97\n",
            "98 Hello World\n",
            "98\n",
            "99 Hello World\n",
            "99\n",
            "100 Hello World\n"
          ]
        }
      ]
    },
    {
      "cell_type": "markdown",
      "source": [
        "- for loop if 조건문\n",
        "- 문자열, 리스트 등 -->시퀀스 데이터"
      ],
      "metadata": {
        "id": "3Mt9SvO5Cy1q"
      }
    },
    {
      "cell_type": "code",
      "source": [
        "a = \"Kaggle\"\n",
        "# g가 시작하면 반복문을 멈추세요\n",
        "for x in a:\n",
        "  print(x)\n",
        "  if x=='g':\n",
        "    break\n",
        "  # print(x)"
      ],
      "metadata": {
        "colab": {
          "base_uri": "https://localhost:8080/"
        },
        "id": "mDFwpEBVC4Fh",
        "outputId": "fdf4be5b-7e98-4d46-e767-c0768681206b"
      },
      "execution_count": 85,
      "outputs": [
        {
          "output_type": "stream",
          "name": "stdout",
          "text": [
            "K\n",
            "a\n",
            "g\n"
          ]
        }
      ]
    },
    {
      "cell_type": "markdown",
      "source": [
        "- enumerate()"
      ],
      "metadata": {
        "id": "BJfA8WLmEhGB"
      }
    },
    {
      "cell_type": "code",
      "source": [
        "alphabets = ['A', 'B', 'C']\n",
        "for index, value in enumerate(alphabets):\n",
        "  print(index, value)"
      ],
      "metadata": {
        "colab": {
          "base_uri": "https://localhost:8080/"
        },
        "id": "yOOhOSZGElhY",
        "outputId": "fbfabf04-bf46-4b9c-f95a-4bae37b87ebb"
      },
      "execution_count": 86,
      "outputs": [
        {
          "output_type": "stream",
          "name": "stdout",
          "text": [
            "0 A\n",
            "1 B\n",
            "2 C\n"
          ]
        }
      ]
    },
    {
      "cell_type": "markdown",
      "source": [
        "## 리스트 컴프리헨션\n",
        "list comprehension\n",
        "- 반복문을 한줄로 표시한다"
      ],
      "metadata": {
        "id": "8nxVw1D-FKH4"
      }
    },
    {
      "cell_type": "code",
      "source": [
        "fruits = ['apple', 'kiwi','mango']\n",
        "newlists = []\n",
        "\n",
        "#알파벳 a가 있는 과일만 추출후, 새로운 리스트에 담기\n",
        "for fruit in fruits:\n",
        "  #print(fruit)\n",
        "  if \"a\" in fruit:\n",
        "    newlists.append(fruit)\n",
        "  print(newlists)  "
      ],
      "metadata": {
        "colab": {
          "base_uri": "https://localhost:8080/"
        },
        "id": "2I5vXsGaFk74",
        "outputId": "b4b43a7e-37c2-4711-dd7d-bb7c87301195"
      },
      "execution_count": 87,
      "outputs": [
        {
          "output_type": "stream",
          "name": "stdout",
          "text": [
            "['apple']\n",
            "['apple']\n",
            "['apple', 'mango']\n"
          ]
        }
      ]
    },
    {
      "cell_type": "code",
      "source": [
        "# 리스트 컴프리헨션\n",
        "newlist = [fruit for fruit in fruits if 'a' in fruit]\n",
        "print(newlist)"
      ],
      "metadata": {
        "colab": {
          "base_uri": "https://localhost:8080/"
        },
        "id": "KQlxF2MWGOox",
        "outputId": "5d8c5bd4-ff53-4c87-a14f-88e4f5b8dafd"
      },
      "execution_count": 90,
      "outputs": [
        {
          "output_type": "stream",
          "name": "stdout",
          "text": [
            "['apple', 'mango']\n"
          ]
        }
      ]
    }
  ]
}