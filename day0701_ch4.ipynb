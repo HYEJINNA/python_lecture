{
 "cells": [
  {
   "cell_type": "markdown",
   "metadata": {
    "id": "vEBNGggef9Ep"
   },
   "source": [
    "## 로지스틱 회귀\n",
    "- 선형회귀에서 출발\n",
    "- 이진 분류 문제 해결\n",
    "- 클래스 확률 예측\n",
    "- 딥러닝에서도 사용됨"
   ]
  },
  {
   "cell_type": "markdown",
   "metadata": {
    "id": "Cjg5XtHbgl3_"
   },
   "source": [
    "p177\n",
    "- x가 사각형일 확률 30%\n",
    "- y가 삼각형일 확률 50%\n",
    "- x가 원일 확률 20%"
   ]
  },
  {
   "cell_type": "markdown",
   "metadata": {
    "id": "ZXtv_QSKg2Io"
   },
   "source": [
    "## 데이터 불러오기\n",
    "- Species (종속변수=Y) -> 타깃\n",
    "- 독립변수 : Weight, Length, Diagonal, Height, Width -> 입력 데이터"
   ]
  },
  {
   "cell_type": "markdown",
   "metadata": {
    "id": "qm7K52bMSiq7"
   },
   "source": [
    "- 파이썬을 통해 데이터 분석을 할 때, Pandas를 빼놓고 이야기할 수 없다. 온전히 통계 분석을 위해 고안된 R 과는 다르게 python은 일반적인 프로그래밍 언어(general purpose programming language) 이며, 데이터 분석을 하기 위해서는 여러가지 라이브러리를 사용할 수 밖에 없다. 이 패키지들 중 R의 dataframe 데이터 타입을 참고하여 만든 것이 바로 pandas dataframe이다. pandas는 dataframe을 주로 다루기 위한 라이브러리이며, dataframe을 자유롭게 가공하는 것은 데이터 과학자들에게 중요하다. \n",
    "\n",
    "- 데이터 프레임은 넘파이로 상호변환이 쉽고, 사이런킷과도 잘 호환된다"
   ]
  },
  {
   "cell_type": "code",
   "execution_count": null,
   "metadata": {
    "colab": {
     "base_uri": "https://localhost:8080/",
     "height": 206
    },
    "id": "Na21R05tgMDJ",
    "outputId": "2a3bac61-65e4-407f-c401-bbd96d0f9cb4"
   },
   "outputs": [
    {
     "data": {
      "text/html": [
       "\n",
       "  <div id=\"df-76aa0f66-ffe7-4987-a45c-016731eef719\">\n",
       "    <div class=\"colab-df-container\">\n",
       "      <div>\n",
       "<style scoped>\n",
       "    .dataframe tbody tr th:only-of-type {\n",
       "        vertical-align: middle;\n",
       "    }\n",
       "\n",
       "    .dataframe tbody tr th {\n",
       "        vertical-align: top;\n",
       "    }\n",
       "\n",
       "    .dataframe thead th {\n",
       "        text-align: right;\n",
       "    }\n",
       "</style>\n",
       "<table border=\"1\" class=\"dataframe\">\n",
       "  <thead>\n",
       "    <tr style=\"text-align: right;\">\n",
       "      <th></th>\n",
       "      <th>Species</th>\n",
       "      <th>Weight</th>\n",
       "      <th>Length</th>\n",
       "      <th>Diagonal</th>\n",
       "      <th>Height</th>\n",
       "      <th>Width</th>\n",
       "    </tr>\n",
       "  </thead>\n",
       "  <tbody>\n",
       "    <tr>\n",
       "      <th>0</th>\n",
       "      <td>Bream</td>\n",
       "      <td>242.0</td>\n",
       "      <td>25.4</td>\n",
       "      <td>30.0</td>\n",
       "      <td>11.5200</td>\n",
       "      <td>4.0200</td>\n",
       "    </tr>\n",
       "    <tr>\n",
       "      <th>1</th>\n",
       "      <td>Bream</td>\n",
       "      <td>290.0</td>\n",
       "      <td>26.3</td>\n",
       "      <td>31.2</td>\n",
       "      <td>12.4800</td>\n",
       "      <td>4.3056</td>\n",
       "    </tr>\n",
       "    <tr>\n",
       "      <th>2</th>\n",
       "      <td>Bream</td>\n",
       "      <td>340.0</td>\n",
       "      <td>26.5</td>\n",
       "      <td>31.1</td>\n",
       "      <td>12.3778</td>\n",
       "      <td>4.6961</td>\n",
       "    </tr>\n",
       "    <tr>\n",
       "      <th>3</th>\n",
       "      <td>Bream</td>\n",
       "      <td>363.0</td>\n",
       "      <td>29.0</td>\n",
       "      <td>33.5</td>\n",
       "      <td>12.7300</td>\n",
       "      <td>4.4555</td>\n",
       "    </tr>\n",
       "    <tr>\n",
       "      <th>4</th>\n",
       "      <td>Bream</td>\n",
       "      <td>430.0</td>\n",
       "      <td>29.0</td>\n",
       "      <td>34.0</td>\n",
       "      <td>12.4440</td>\n",
       "      <td>5.1340</td>\n",
       "    </tr>\n",
       "  </tbody>\n",
       "</table>\n",
       "</div>\n",
       "      <button class=\"colab-df-convert\" onclick=\"convertToInteractive('df-76aa0f66-ffe7-4987-a45c-016731eef719')\"\n",
       "              title=\"Convert this dataframe to an interactive table.\"\n",
       "              style=\"display:none;\">\n",
       "        \n",
       "  <svg xmlns=\"http://www.w3.org/2000/svg\" height=\"24px\"viewBox=\"0 0 24 24\"\n",
       "       width=\"24px\">\n",
       "    <path d=\"M0 0h24v24H0V0z\" fill=\"none\"/>\n",
       "    <path d=\"M18.56 5.44l.94 2.06.94-2.06 2.06-.94-2.06-.94-.94-2.06-.94 2.06-2.06.94zm-11 1L8.5 8.5l.94-2.06 2.06-.94-2.06-.94L8.5 2.5l-.94 2.06-2.06.94zm10 10l.94 2.06.94-2.06 2.06-.94-2.06-.94-.94-2.06-.94 2.06-2.06.94z\"/><path d=\"M17.41 7.96l-1.37-1.37c-.4-.4-.92-.59-1.43-.59-.52 0-1.04.2-1.43.59L10.3 9.45l-7.72 7.72c-.78.78-.78 2.05 0 2.83L4 21.41c.39.39.9.59 1.41.59.51 0 1.02-.2 1.41-.59l7.78-7.78 2.81-2.81c.8-.78.8-2.07 0-2.86zM5.41 20L4 18.59l7.72-7.72 1.47 1.35L5.41 20z\"/>\n",
       "  </svg>\n",
       "      </button>\n",
       "      \n",
       "  <style>\n",
       "    .colab-df-container {\n",
       "      display:flex;\n",
       "      flex-wrap:wrap;\n",
       "      gap: 12px;\n",
       "    }\n",
       "\n",
       "    .colab-df-convert {\n",
       "      background-color: #E8F0FE;\n",
       "      border: none;\n",
       "      border-radius: 50%;\n",
       "      cursor: pointer;\n",
       "      display: none;\n",
       "      fill: #1967D2;\n",
       "      height: 32px;\n",
       "      padding: 0 0 0 0;\n",
       "      width: 32px;\n",
       "    }\n",
       "\n",
       "    .colab-df-convert:hover {\n",
       "      background-color: #E2EBFA;\n",
       "      box-shadow: 0px 1px 2px rgba(60, 64, 67, 0.3), 0px 1px 3px 1px rgba(60, 64, 67, 0.15);\n",
       "      fill: #174EA6;\n",
       "    }\n",
       "\n",
       "    [theme=dark] .colab-df-convert {\n",
       "      background-color: #3B4455;\n",
       "      fill: #D2E3FC;\n",
       "    }\n",
       "\n",
       "    [theme=dark] .colab-df-convert:hover {\n",
       "      background-color: #434B5C;\n",
       "      box-shadow: 0px 1px 3px 1px rgba(0, 0, 0, 0.15);\n",
       "      filter: drop-shadow(0px 1px 2px rgba(0, 0, 0, 0.3));\n",
       "      fill: #FFFFFF;\n",
       "    }\n",
       "  </style>\n",
       "\n",
       "      <script>\n",
       "        const buttonEl =\n",
       "          document.querySelector('#df-76aa0f66-ffe7-4987-a45c-016731eef719 button.colab-df-convert');\n",
       "        buttonEl.style.display =\n",
       "          google.colab.kernel.accessAllowed ? 'block' : 'none';\n",
       "\n",
       "        async function convertToInteractive(key) {\n",
       "          const element = document.querySelector('#df-76aa0f66-ffe7-4987-a45c-016731eef719');\n",
       "          const dataTable =\n",
       "            await google.colab.kernel.invokeFunction('convertToInteractive',\n",
       "                                                     [key], {});\n",
       "          if (!dataTable) return;\n",
       "\n",
       "          const docLinkHtml = 'Like what you see? Visit the ' +\n",
       "            '<a target=\"_blank\" href=https://colab.research.google.com/notebooks/data_table.ipynb>data table notebook</a>'\n",
       "            + ' to learn more about interactive tables.';\n",
       "          element.innerHTML = '';\n",
       "          dataTable['output_type'] = 'display_data';\n",
       "          await google.colab.output.renderOutput(dataTable, element);\n",
       "          const docLink = document.createElement('div');\n",
       "          docLink.innerHTML = docLinkHtml;\n",
       "          element.appendChild(docLink);\n",
       "        }\n",
       "      </script>\n",
       "    </div>\n",
       "  </div>\n",
       "  "
      ],
      "text/plain": [
       "  Species  Weight  Length  Diagonal   Height   Width\n",
       "0   Bream   242.0    25.4      30.0  11.5200  4.0200\n",
       "1   Bream   290.0    26.3      31.2  12.4800  4.3056\n",
       "2   Bream   340.0    26.5      31.1  12.3778  4.6961\n",
       "3   Bream   363.0    29.0      33.5  12.7300  4.4555\n",
       "4   Bream   430.0    29.0      34.0  12.4440  5.1340"
      ]
     },
     "execution_count": 1,
     "metadata": {},
     "output_type": "execute_result"
    }
   ],
   "source": [
    "import pandas as pd\n",
    "\n",
    "fish = pd.read_csv('https://bit.ly/fish_csv_data')\n",
    "fish.head()"
   ]
  },
  {
   "cell_type": "markdown",
   "metadata": {
    "id": "YCgR6vWAhYoY"
   },
   "source": [
    "## 데이터 탐색 (실제작업시 시간소요)"
   ]
  },
  {
   "cell_type": "code",
   "execution_count": null,
   "metadata": {
    "colab": {
     "base_uri": "https://localhost:8080/"
    },
    "id": "XKJ8t5IRhbD4",
    "outputId": "bf71c2ae-13f3-4a2f-ec68-d440df0511a7"
   },
   "outputs": [
    {
     "name": "stdout",
     "output_type": "stream",
     "text": [
      "['Bream' 'Roach' 'Whitefish' 'Parkki' 'Perch' 'Pike' 'Smelt']\n"
     ]
    }
   ],
   "source": [
    "# 종속변수\n",
    "print(pd.unique(fish['Species'])) #unique():데이터에 고유값들이 어떠한 종류들이 있는지 알고 싶을때 사용하는 함수"
   ]
  },
  {
   "cell_type": "code",
   "execution_count": null,
   "metadata": {
    "colab": {
     "base_uri": "https://localhost:8080/"
    },
    "id": "f8rBJOjniBNo",
    "outputId": "cbe44bff-5b62-4632-f9dc-3c8fd243d298"
   },
   "outputs": [
    {
     "name": "stdout",
     "output_type": "stream",
     "text": [
      "Perch        56\n",
      "Bream        35\n",
      "Roach        20\n",
      "Pike         17\n",
      "Smelt        14\n",
      "Parkki       11\n",
      "Whitefish     6\n",
      "Name: Species, dtype: int64\n"
     ]
    }
   ],
   "source": [
    "print(fish['Species'].value_counts())"
   ]
  },
  {
   "cell_type": "markdown",
   "metadata": {
    "id": "_qZuIcVZiRQn"
   },
   "source": [
    "## 데이터 가공"
   ]
  },
  {
   "cell_type": "code",
   "execution_count": null,
   "metadata": {
    "colab": {
     "base_uri": "https://localhost:8080/"
    },
    "id": "8oPnsKEqiT4A",
    "outputId": "bdeb1b08-a8a8-445e-951f-551697f47e54"
   },
   "outputs": [
    {
     "data": {
      "text/plain": [
       "(159, 5)"
      ]
     },
     "execution_count": 7,
     "metadata": {},
     "output_type": "execute_result"
    }
   ],
   "source": [
    "# 입력데이터 만들기\n",
    "# 데이터프레임에서 여러열을 선택하면 새로운 데이터 프레임이 반환되며, 이를 to_numpy()메서드로 넘파이 배열로 바꾼다\n",
    "fish_input = fish[['Weight', 'Length','Diagonal','Height','Width' ]].to_numpy() \n",
    "fish_input.shape"
   ]
  },
  {
   "cell_type": "code",
   "execution_count": null,
   "metadata": {
    "colab": {
     "base_uri": "https://localhost:8080/"
    },
    "id": "urTJ3zjpjBlQ",
    "outputId": "141ef12b-a777-40e4-fdc9-020c569d687a"
   },
   "outputs": [
    {
     "name": "stdout",
     "output_type": "stream",
     "text": [
      "[[242.      25.4     30.      11.52     4.02  ]\n",
      " [290.      26.3     31.2     12.48     4.3056]\n",
      " [340.      26.5     31.1     12.3778   4.6961]\n",
      " [363.      29.      33.5     12.73     4.4555]\n",
      " [430.      29.      34.      12.444    5.134 ]]\n"
     ]
    }
   ],
   "source": [
    "print(fish_input[:5]) #[:5] : 처음 5개 행"
   ]
  },
  {
   "cell_type": "code",
   "execution_count": null,
   "metadata": {
    "id": "zjxbi7DLjHu_"
   },
   "outputs": [],
   "source": [
    "# 타깃데이터 만들기\n",
    "fish_target = fish['Species'].to_numpy() # ['Species'] : [['Species']]사용하지 않도록 주의, 그렇게 하면 fish_target이 2차원 배열이 됨 **"
   ]
  },
  {
   "cell_type": "markdown",
   "metadata": {
    "id": "vyqXpCRrkAJY"
   },
   "source": [
    "## 데이터 분리"
   ]
  },
  {
   "cell_type": "code",
   "execution_count": null,
   "metadata": {
    "id": "6wJ-_Kw0jU2H"
   },
   "outputs": [],
   "source": [
    "# 데이터 세트 2개 만들기 \n",
    "from sklearn.model_selection import train_test_split\n",
    "train_input, test_input, train_target, test_target = train_test_split(\n",
    "    fish_input, fish_target, random_state=42\n",
    ")\n",
    "\n",
    "# 층화 샘플링"
   ]
  },
  {
   "cell_type": "markdown",
   "metadata": {
    "id": "DxEAvJ_okAGP"
   },
   "source": [
    "## 표준화 전처리 \n",
    "- 여기에서도 훈련 세트의 통계 값으로 테스트 세트를 변환해야 한다는 점을 잊지 않기 **\n",
    "- 데이터 가공\n",
    " + 숫자 결측치가 존재, 평균값으로 대체\n",
    " + 원본 데이터 평균 대치 (x) > 훈련 데이터로 평균대치 (o)\n",
    " + 훈련 데이터와 테스트 데이터 분리\n",
    "- 데이터 누수(Data Leakage)\n",
    " + 훈련데이터 평균값 70을 대치 (o)\n",
    " + 테스트데이터 평균값 75를 대치 (x)\n",
    " + 모든 데이터 평균값 72.5를 대치 (x)\n",
    "\n",
    " 참고 사이트 \n",
    " https://scikit-learn.org/stable/common_pitfalls.html \n",
    "\n",
    "참고 코드 (무조건 pipeline 으로 사용: 중간에 복잡한 내용없이 안전하게 실행가능) : Data Leakage 방지가능\n",
    "  \n",
    "from sklearn.pipeline import make_pipeline\n",
    "\n",
    "model = make_pipeline(StandardScaler(), LinearRegression())\n",
    "\n",
    "model.fit(X_train, y_train)\n",
    "\n",
    "Pipeline(steps=[('standardscaler', StandardScaler()),\n",
    "                ('linearregression', LinearRegression())])\n",
    "\n",
    "mean_squared_error(y_test, model.predict(X_test))\n",
    "0.90...\n",
    "\n",
    "\n",
    "- Pipelines also help avoiding another common pitfall: leaking the test data into the training data."
   ]
  },
  {
   "cell_type": "markdown",
   "metadata": {
    "id": "wGFDOOYdHu3U"
   },
   "source": [
    "교재 p97\n",
    "- 기준을 맞춰라 --> 데이터 표준화(표준점수)\n",
    "- 수동으로 mean, std"
   ]
  },
  {
   "cell_type": "code",
   "execution_count": null,
   "metadata": {
    "id": "Ktf0zh6gIH8T"
   },
   "outputs": [],
   "source": [
    "# p100\n",
    "# train_scaled = (train_input - mean)/std"
   ]
  },
  {
   "cell_type": "markdown",
   "metadata": {
    "id": "Oe9D0AfyIkIa"
   },
   "source": [
    "StandardScaler() 참고 \n",
    "\n",
    "https://scikit-learn.org/stable/modules/generated/sklearn.preprocessing.StandardScaler.html"
   ]
  },
  {
   "cell_type": "code",
   "execution_count": null,
   "metadata": {
    "id": "OYm_bufZkCXf"
   },
   "outputs": [],
   "source": [
    "# StandardScaler 클래스 사용하여 훈련세트와 데이터세트를 표준화 전처리하기\n",
    "from sklearn.preprocessing import StandardScaler\n",
    "ss = StandardScaler()\n",
    "ss.fit(train_input)\n",
    "# ss.fit(test_input) (x)\n",
    "train_scaled = ss.transform(train_input)\n",
    "test_scaled = ss.transform(test_input)"
   ]
  },
  {
   "cell_type": "markdown",
   "metadata": {
    "id": "qn5I2wMxJXG8"
   },
   "source": [
    "## 모형 만들기\n",
    "- k-최근접 이웃\n",
    "- 보통 1개의 모형만 만들지는 않음 / 여러개의 샘플링"
   ]
  },
  {
   "cell_type": "code",
   "execution_count": null,
   "metadata": {
    "colab": {
     "base_uri": "https://localhost:8080/"
    },
    "id": "G2Lo8w52oQnP",
    "outputId": "ceae82cc-aa30-451e-880d-8efe25f3e71f"
   },
   "outputs": [
    {
     "name": "stdout",
     "output_type": "stream",
     "text": [
      "0.8907563025210085\n",
      "0.85\n"
     ]
    }
   ],
   "source": [
    "from sklearn.neighbors import KNeighborsClassifier\n",
    "kn = KNeighborsClassifier(n_neighbors=3)\n",
    "kn.fit(train_scaled, train_target)\n",
    "print(kn.score(train_scaled, train_target))\n",
    "print(kn.score(test_scaled, test_target))"
   ]
  },
  {
   "cell_type": "markdown",
   "metadata": {
    "id": "1suSM6dblV-o"
   },
   "source": []
  },
  {
   "cell_type": "markdown",
   "metadata": {
    "id": "HvDhg4-nJ_e0"
   },
   "source": [
    "- 타깃값 확인\n",
    "- 알파벳 순으로 정렬"
   ]
  },
  {
   "cell_type": "code",
   "execution_count": null,
   "metadata": {
    "colab": {
     "base_uri": "https://localhost:8080/"
    },
    "id": "aL68asW-KEGb",
    "outputId": "88c908c9-3d20-4df4-a00a-1520d276b324"
   },
   "outputs": [
    {
     "name": "stdout",
     "output_type": "stream",
     "text": [
      "['Bream' 'Parkki' 'Perch' 'Pike' 'Roach' 'Smelt' 'Whitefish']\n"
     ]
    }
   ],
   "source": [
    "print(kn.classes_) "
   ]
  },
  {
   "cell_type": "code",
   "execution_count": null,
   "metadata": {
    "colab": {
     "base_uri": "https://localhost:8080/"
    },
    "id": "RuS3DBwBKKRc",
    "outputId": "589e10ab-8e76-4530-b1c0-0ee905d40e94"
   },
   "outputs": [
    {
     "name": "stdout",
     "output_type": "stream",
     "text": [
      "['Perch' 'Smelt' 'Pike' 'Perch' 'Perch']\n"
     ]
    }
   ],
   "source": [
    "print(kn.predict(test_scaled[:5]))"
   ]
  },
  {
   "cell_type": "markdown",
   "metadata": {
    "id": "h5s57JepKdz7"
   },
   "source": [
    "- 5개 샘플에 대한 예측은 어떤 확률인가?"
   ]
  },
  {
   "cell_type": "code",
   "execution_count": null,
   "metadata": {
    "colab": {
     "base_uri": "https://localhost:8080/"
    },
    "id": "8DNJwKPRKj3j",
    "outputId": "16e2b1c3-d509-4460-e988-b61bce4803e4"
   },
   "outputs": [
    {
     "name": "stdout",
     "output_type": "stream",
     "text": [
      "[[0.     0.     1.     0.     0.     0.     0.    ]\n",
      " [0.     0.     0.     0.     0.     1.     0.    ]\n",
      " [0.     0.     0.     1.     0.     0.     0.    ]\n",
      " [0.     0.     0.6667 0.     0.3333 0.     0.    ]\n",
      " [0.     0.     0.6667 0.     0.3333 0.     0.    ]]\n"
     ]
    }
   ],
   "source": [
    "import numpy as np\n",
    "proba = kn.predict_proba(test_scaled[:5]) #predict_proba()메서드: 클래스별 확률값 반환 \n",
    "\n",
    "#round()함수는 기본으로 소수점 첫째자리에서 반올림, decimals 매개변수로 유지할 소수점 아래자릿수 지정가능\n",
    "print(np.round(proba, decimals=4)) "
   ]
  },
  {
   "cell_type": "markdown",
   "metadata": {
    "id": "_0sr--tkK8d8"
   },
   "source": [
    "- 첫 번째 클래스 Perch\n",
    " +100% 확률로 Perch 예측\n",
    "- 네번째 클래스 Perch\n",
    " + 66.7% 확률로 Perch로 예측\n",
    " + 33.3% 확률로 Perch로 예측"
   ]
  },
  {
   "cell_type": "markdown",
   "metadata": {
    "id": "GhOTc8QnMaEL"
   },
   "source": [
    "## 회귀식\n",
    "y = ax + b\n",
    "- 양변에 로그를 취함\n"
   ]
  },
  {
   "cell_type": "markdown",
   "metadata": {
    "id": "XO-pRgVWg0TA"
   },
   "source": [
    "## 로지스틱회귀"
   ]
  },
  {
   "cell_type": "code",
   "execution_count": null,
   "metadata": {
    "colab": {
     "base_uri": "https://localhost:8080/",
     "height": 279
    },
    "id": "EURe9OJLfPhA",
    "outputId": "5062d084-62e3-4a0e-936a-4653bf7f7295"
   },
   "outputs": [
    {
     "data": {
      "image/png": "[encoded data removed]",
      "text/plain": [
       "<Figure size 432x288 with 1 Axes>"
      ]
     },
     "metadata": {
      "needs_background": "light"
     },
     "output_type": "display_data"
    }
   ],
   "source": [
    "import numpy as np\n",
    "import matplotlib.pyplot as plt\n",
    "z = np.arange(-5,5,0.5)\n",
    "phi = 1/(1+np.exp(-z)) #np.exp 지수함수계산\n",
    "plt.plot(z, phi)\n",
    "plt.xlabel('z')\n",
    "plt.ylabel('phi')\n",
    "plt.show()"
   ]
  },
  {
   "cell_type": "markdown",
   "metadata": {
    "id": "jFYeuTfYP4jL"
   },
   "source": [
    "## 로지스틱 회귀로 이진 분류 수행"
   ]
  },
  {
   "cell_type": "code",
   "execution_count": null,
   "metadata": {
    "colab": {
     "base_uri": "https://localhost:8080/"
    },
    "id": "ukoK5Nq5P8UL",
    "outputId": "2e8b8ba0-cbe3-434e-a84e-9d3f7d964252"
   },
   "outputs": [
    {
     "name": "stdout",
     "output_type": "stream",
     "text": [
      "['A' 'C']\n"
     ]
    }
   ],
   "source": [
    "# 넘파이배열은 True, False값을 전달하여 행을 선택 \n",
    "char_arr = np.array(['A', 'B', 'C', 'D', 'E'])\n",
    "print(char_arr[[True, False, True, False, False]])"
   ]
  },
  {
   "cell_type": "code",
   "execution_count": null,
   "metadata": {
    "colab": {
     "base_uri": "https://localhost:8080/"
    },
    "id": "rdPFfRJ2Qoqz",
    "outputId": "c6331c0d-5c6a-457e-871a-cd09a1b13ab0"
   },
   "outputs": [
    {
     "data": {
      "text/plain": [
       "((119, 5), (33, 5))"
      ]
     },
     "execution_count": 34,
     "metadata": {},
     "output_type": "execute_result"
    }
   ],
   "source": [
    "bream_smelt_indexes = (train_target == 'Bream') | (train_target == 'Smelt') # | : OR연산자 / bream_smelt_indexes배열: 도미와 빙어일경우 True, 그외에는 모두 False\n",
    "train_bream_smelt = train_scaled[bream_smelt_indexes]\n",
    "target_bream_smelt = train_target[bream_smelt_indexes]\n",
    "\n",
    "train_scaled.shape, train_bream_smelt.shape"
   ]
  },
  {
   "cell_type": "markdown",
   "metadata": {
    "id": "kxgHXIkDU4HT"
   },
   "source": [
    "## 모델 만들기 "
   ]
  },
  {
   "cell_type": "code",
   "execution_count": null,
   "metadata": {
    "colab": {
     "base_uri": "https://localhost:8080/"
    },
    "id": "-Y5MGcxjShSD",
    "outputId": "8dd73a8a-de30-42d8-efc8-dd7c2b126e7c"
   },
   "outputs": [
    {
     "data": {
      "text/plain": [
       "LogisticRegression()"
      ]
     },
     "execution_count": 35,
     "metadata": {},
     "output_type": "execute_result"
    }
   ],
   "source": [
    "from sklearn.linear_model import LogisticRegression\n",
    "lr = LogisticRegression()\n",
    "lr.fit(train_bream_smelt, target_bream_smelt)\n"
   ]
  },
  {
   "cell_type": "code",
   "execution_count": null,
   "metadata": {
    "colab": {
     "base_uri": "https://localhost:8080/"
    },
    "id": "tDeWHD1oS6I7",
    "outputId": "b2ff8814-113b-4619-f38e-7eaa2fbbe6d1"
   },
   "outputs": [
    {
     "name": "stdout",
     "output_type": "stream",
     "text": [
      "['Bream' 'Smelt' 'Bream' 'Bream' 'Bream']\n"
     ]
    }
   ],
   "source": [
    "# 클래스를 예측\n",
    "print(lr.predict(train_bream_smelt[:5]))"
   ]
  },
  {
   "cell_type": "markdown",
   "metadata": {
    "id": "llygF2vmVn2K"
   },
   "source": [
    "- 확률값 구하기 "
   ]
  },
  {
   "cell_type": "code",
   "execution_count": null,
   "metadata": {
    "colab": {
     "base_uri": "https://localhost:8080/"
    },
    "id": "eChHQl_GTBjS",
    "outputId": "6aa6d73e-f32c-418a-9ef2-bdda59bbed9a"
   },
   "outputs": [
    {
     "name": "stdout",
     "output_type": "stream",
     "text": [
      "[[0.99759855 0.00240145]\n",
      " [0.02735183 0.97264817]\n",
      " [0.99486072 0.00513928]\n",
      " [0.98584202 0.01415798]\n",
      " [0.99767269 0.00232731]]\n"
     ]
    }
   ],
   "source": [
    "print(lr.predict_proba(train_bream_smelt[:5]))"
   ]
  },
  {
   "cell_type": "code",
   "execution_count": null,
   "metadata": {
    "colab": {
     "base_uri": "https://localhost:8080/"
    },
    "id": "X2ScYvfLTL4C",
    "outputId": "554dfb7c-e8e8-4ea1-be50-5e797263a779"
   },
   "outputs": [
    {
     "name": "stdout",
     "output_type": "stream",
     "text": [
      "['Bream' 'Smelt']\n"
     ]
    }
   ],
   "source": [
    "print(lr.classes_)"
   ]
  },
  {
   "cell_type": "markdown",
   "metadata": {
    "id": "hMXFnw4xWeda"
   },
   "source": [
    "- 분류기준: threshold 임계값 설정 (경계선을 긋는)\n"
   ]
  },
  {
   "cell_type": "markdown",
   "metadata": {
    "id": "FsNauLmCW9hr"
   },
   "source": [
    "계수와 절편"
   ]
  },
  {
   "cell_type": "code",
   "execution_count": null,
   "metadata": {
    "colab": {
     "base_uri": "https://localhost:8080/"
    },
    "id": "B0_7qkgFTRcS",
    "outputId": "9d0c0711-35a9-41bc-d546-32ec59a1273b"
   },
   "outputs": [
    {
     "name": "stdout",
     "output_type": "stream",
     "text": [
      "[[-0.4037798  -0.57620209 -0.66280298 -1.01290277 -0.73168947]] [-2.16155132]\n"
     ]
    }
   ],
   "source": [
    "print(lr.coef_, lr.intercept_)"
   ]
  },
  {
   "cell_type": "code",
   "execution_count": null,
   "metadata": {
    "colab": {
     "base_uri": "https://localhost:8080/"
    },
    "id": "R9CAsvgcTYTb",
    "outputId": "b074afb0-6117-439f-f29e-dc79703f2b14"
   },
   "outputs": [
    {
     "name": "stdout",
     "output_type": "stream",
     "text": [
      "[-6.02927744  3.57123907 -5.26568906 -4.24321775 -6.0607117 ]\n"
     ]
    }
   ],
   "source": [
    "decisions = lr.decision_function(train_bream_smelt[:5])\n",
    "print(decisions)"
   ]
  },
  {
   "cell_type": "markdown",
   "metadata": {
    "id": "KMldxGJiXvqq"
   },
   "source": [
    "- z값을 확률값으로 변환"
   ]
  },
  {
   "cell_type": "code",
   "execution_count": null,
   "metadata": {
    "colab": {
     "base_uri": "https://localhost:8080/"
    },
    "id": "iDmNeX0gT0LT",
    "outputId": "4a53472b-9f9b-4a75-e59a-6cb3c4b28cc2"
   },
   "outputs": [
    {
     "name": "stdout",
     "output_type": "stream",
     "text": [
      "[0.00240145 0.97264817 0.00513928 0.01415798 0.00232731]\n"
     ]
    }
   ],
   "source": [
    "from scipy.special import expit\n",
    "print(expit(decisions))"
   ]
  },
  {
   "cell_type": "markdown",
   "metadata": {
    "id": "tTTmjNcknD4Z"
   },
   "source": []
  },
  {
   "cell_type": "markdown",
   "metadata": {
    "id": "ZkNUqumycNuZ"
   },
   "source": [
    "## 다중 분류 수행하기\n",
    "- 이진분류의 확장판"
   ]
  },
  {
   "cell_type": "code",
   "execution_count": null,
   "metadata": {
    "colab": {
     "base_uri": "https://localhost:8080/"
    },
    "id": "h8EE6xAuX4Di",
    "outputId": "2add79a5-531b-4313-b115-0ae210f1fd21"
   },
   "outputs": [
    {
     "name": "stdout",
     "output_type": "stream",
     "text": [
      "0.9327731092436975\n",
      "0.925\n"
     ]
    }
   ],
   "source": [
    "# 하이퍼 파라미터 세팅\n",
    "# 모형을 튜닝\n",
    "# 모형 결과의 과대적합 또는 과소적합을 방지하기 위한 것\n",
    "\n",
    "lr = LogisticRegression(C=20, max_iter=1000)\n",
    "lr.fit(train_scaled, train_target)\n",
    "print(lr.score(train_scaled, train_target))\n",
    "print(lr.score(test_scaled, test_target))"
   ]
  },
  {
   "cell_type": "code",
   "execution_count": null,
   "metadata": {
    "colab": {
     "base_uri": "https://localhost:8080/"
    },
    "id": "z5yKOZKTcwSZ",
    "outputId": "d3491cda-0db1-44fe-cc78-01e580f11778"
   },
   "outputs": [
    {
     "name": "stdout",
     "output_type": "stream",
     "text": [
      "['Perch' 'Smelt' 'Pike' 'Roach' 'Perch']\n"
     ]
    }
   ],
   "source": [
    "print(lr.predict(test_scaled[:5]))"
   ]
  },
  {
   "cell_type": "code",
   "execution_count": null,
   "metadata": {
    "colab": {
     "base_uri": "https://localhost:8080/"
    },
    "id": "Q5e3RqdDc4oL",
    "outputId": "d13e270b-c145-4148-fc8d-889e88656ab6"
   },
   "outputs": [
    {
     "name": "stdout",
     "output_type": "stream",
     "text": [
      "[[0.    0.014 0.841 0.    0.136 0.007 0.003]\n",
      " [0.    0.003 0.044 0.    0.007 0.946 0.   ]\n",
      " [0.    0.    0.034 0.935 0.015 0.016 0.   ]\n",
      " [0.011 0.034 0.306 0.007 0.567 0.    0.076]\n",
      " [0.    0.    0.904 0.002 0.089 0.002 0.001]]\n"
     ]
    }
   ],
   "source": [
    "proba = lr.predict_proba(test_scaled[:5])\n",
    "print(np.round(proba, decimals=3))"
   ]
  },
  {
   "cell_type": "markdown",
   "metadata": {
    "id": "vGlUMGY-dZoa"
   },
   "source": [
    "- 다중 분류일 경우 선형 방정식은 어떤 모습일까?\n",
    "- 분류 7개, 칼럼 값 5개"
   ]
  },
  {
   "cell_type": "code",
   "execution_count": null,
   "metadata": {
    "colab": {
     "base_uri": "https://localhost:8080/"
    },
    "id": "9UeffKO-dJQA",
    "outputId": "38379ead-a13a-48d1-f659-e1ca12c049c3"
   },
   "outputs": [
    {
     "name": "stdout",
     "output_type": "stream",
     "text": [
      "['Bream' 'Parkki' 'Perch' 'Pike' 'Roach' 'Smelt' 'Whitefish']\n"
     ]
    }
   ],
   "source": [
    "print(lr.classes_)"
   ]
  },
  {
   "cell_type": "code",
   "execution_count": null,
   "metadata": {
    "colab": {
     "base_uri": "https://localhost:8080/"
    },
    "id": "-S0LuFLidN3K",
    "outputId": "bded392b-0d77-4c5e-8dd1-fda5142e8159"
   },
   "outputs": [
    {
     "name": "stdout",
     "output_type": "stream",
     "text": [
      "(7, 5) (7,)\n"
     ]
    }
   ],
   "source": [
    "print(lr.coef_.shape, lr.intercept_.shape)"
   ]
  },
  {
   "cell_type": "markdown",
   "metadata": {
    "id": "Mt990CLJcF4q"
   },
   "source": []
  },
  {
   "cell_type": "code",
   "execution_count": null,
   "metadata": {
    "colab": {
     "base_uri": "https://localhost:8080/"
    },
    "id": "1AisVj45dugo",
    "outputId": "9cce727f-27b5-47b4-9bab-2d62f1ef9ef3"
   },
   "outputs": [
    {
     "name": "stdout",
     "output_type": "stream",
     "text": [
      "[[ -6.5    1.03   5.16  -2.73   3.34   0.33  -0.63]\n",
      " [-10.86   1.93   4.77  -2.4    2.98   7.84  -4.26]\n",
      " [ -4.34  -6.23   3.17   6.49   2.36   2.42  -3.87]\n",
      " [ -0.68   0.45   2.65  -1.19   3.26  -5.75   1.26]\n",
      " [ -6.4   -1.99   5.82  -0.11   3.5   -0.11  -0.71]]\n"
     ]
    }
   ],
   "source": [
    "decision = lr.decision_function(test_scaled[:5])\n",
    "print(np.round(decision, decimals=2))"
   ]
  },
  {
   "cell_type": "code",
   "execution_count": null,
   "metadata": {
    "colab": {
     "base_uri": "https://localhost:8080/"
    },
    "id": "A7zePN7jeZKh",
    "outputId": "a1079fef-5909-47cc-8079-6b74a512c7ad"
   },
   "outputs": [
    {
     "name": "stdout",
     "output_type": "stream",
     "text": [
      "[[0.    0.014 0.841 0.    0.136 0.007 0.003]\n",
      " [0.    0.003 0.044 0.    0.007 0.946 0.   ]\n",
      " [0.    0.    0.034 0.935 0.015 0.016 0.   ]\n",
      " [0.011 0.034 0.306 0.007 0.567 0.    0.076]\n",
      " [0.    0.    0.904 0.002 0.089 0.002 0.001]]\n"
     ]
    }
   ],
   "source": [
    "from scipy.special import softmax\n",
    "proba = softmax(decision, axis =1)\n",
    "print(np.round(proba, decimals=3))"
   ]
  },
  {
   "cell_type": "markdown",
   "metadata": {
    "id": "J_AnIf2Zh4tx"
   },
   "source": [
    "교재에는 관련 내용없음\n",
    "\n",
    "## 평가 지표 (실제 평가시 이용)\n",
    "- 회귀 평가지표\n",
    "- 결정 계수 (p121)\n",
    " + (타깃-예측)^2의 합 / (타깃-평균)^2의 합\n",
    "- MAE, MSE, RMSE\n",
    " + (실제 - 예측)= 오차\n",
    " + MAE(Mean Absoluted Error) : 오차의 절댓값의 평균\n",
    " + MES(Meen Squared Error) : 오차 제곱의 평균\n",
    " + RMSE(Root Mean Squared Error):MSE에 제곱근을 취한 값\n",
    "\n",
    "- 좋은 모델이란?\n",
    " + 결정계수 : 1에 수렴하면 좋은 모델\n",
    " + MAE, MSE, RMSE : 0에 수렴하면 좋은 모델\n",
    "\n",
    "참고\n",
    " https://scikit-learn.org/stable/modules/model_evaluation.html"
   ]
  },
  {
   "cell_type": "code",
   "execution_count": null,
   "metadata": {
    "colab": {
     "base_uri": "https://localhost:8080/"
    },
    "id": "o1zI39RGj5r5",
    "outputId": "b6c9edf0-1f3f-43a4-d9a8-e54c4d90bed3"
   },
   "outputs": [
    {
     "name": "stdout",
     "output_type": "stream",
     "text": [
      "0.5384615384615384\n",
      "0.6923076923076923\n",
      "0.8320502943378437\n",
      "0.8617021276595744\n"
     ]
    }
   ],
   "source": [
    "import numpy as np\n",
    "from sklearn.metrics import mean_absolute_error, mean_squared_error, r2_score\n",
    "\n",
    "true = np.array([1, 2, 3, 2, 3, 5, 4, 6, 5, 6, 7, 8, 8]) # 실제값\n",
    "preds = np.array([1, 1, 2, 2, 3, 4, 4, 5, 5, 7, 7, 6, 8]) # 예측값\n",
    "\n",
    "#절대값 오차의 평균\n",
    "mae = mean_absolute_error(true, preds)\n",
    "print(mae)\n",
    "\n",
    "#제곱 오차의 평균\n",
    "mse = mean_squared_error(true, preds)\n",
    "print(mse)\n",
    "\n",
    "# mse제곱근\n",
    "rmse = np.sqrt(mse)\n",
    "print(rmse)\n",
    "\n",
    "# 결정계수\n",
    "r2 = r2_score(true, preds)\n",
    "print(r2)\n"
   ]
  },
  {
   "cell_type": "markdown",
   "metadata": {
    "id": "ZT81wFiBliSJ"
   },
   "source": [
    "## 분류 평가 지표 \n",
    "- 오차 행렬\n",
    "- 실제 값\n",
    " + [빙어, 도미, 도미, 빙어, 도미]\n",
    " + [빙어, 빙어, 도미, 빙어, 빙어]  \n",
    "\n",
    "\n",
    "TP(빙어를 빙어로 예측) : 2\n",
    "TN(도미를 도미로 예측) : 1\n",
    "FN(실제 도미, 예측 빙어) : 2\n",
    "FP(실제 빙어, 예측 도미) : 0\n",
    "\n",
    "- TP, TN, FP, FN\n",
    " + TP=5, TN=5, FP=3, FN=7\n",
    " + 정확도 :(TP+TN)/(TP+TN+FP+FN)\n",
    " + 정밀도 : 양성이라고 예측한 값(TP+FP)중 실제 양성인 값의 비율\n",
    " + 재현율 : 실제 양성인 값 중에서 양성으로 예측한 값(TP)의 비율\n",
    "   - 코로나검사\n",
    "    + 양성(1) : 음성(99)\n",
    "    + 머신러닝 모형 : 정확도 98% / 정밀도 99%\n",
    "    + 인간 음성진단 : 정확도 99% / 정밀도 95%\n",
    "  - 검사자가 실제는 양성, 진단은 음성으로 내림\n",
    "\n",
    " + 로그손실 \n",
    " + ROC Curve (=AUC)\n",
    "\n",
    "- 정밀도, 재현율 : 타깃데이터가 불안정시/ 정확도 확인어려울시 \n",
    "\n",
    "\n",
    "\n",
    "- 모형의 정확도 3/5 = 60%\n",
    "\n",
    "분류 모델 평가방법 참고 \n",
    "\n",
    "https://velog.io/@skyepodium/%EB%B6%84%EB%A5%98-%EB%AA%A8%EB%8D%B8-%ED%8F%89%EA%B0%80-%EB%B0%A9%EB%B2%95\n",
    "\n"
   ]
  },
  {
   "cell_type": "code",
   "execution_count": null,
   "metadata": {
    "colab": {
     "base_uri": "https://localhost:8080/"
    },
    "id": "zZXI47ZFmXwA",
    "outputId": "1877e3b0-d3e9-4bf7-a19e-d01c0b82d0ce"
   },
   "outputs": [
    {
     "data": {
      "text/plain": [
       "array([[2, 1],\n",
       "       [2, 0]])"
      ]
     },
     "execution_count": 60,
     "metadata": {},
     "output_type": "execute_result"
    }
   ],
   "source": [
    "from sklearn.metrics import confusion_matrix\n",
    "\n",
    "true = [0,1,1,0,0]\n",
    "pred = [1,0,0,0,0]\n",
    "\n",
    "confusion_matrix(true, pred)"
   ]
  }
 ],
 "metadata": {
  "colab": {
   "collapsed_sections": [],
   "name": "day0701_ch4.ipynb",
   "provenance": []
  },
  "kernelspec": {
   "display_name": "Python 3 (ipykernel)",
   "language": "python",
   "name": "python3"
  },
  "language_info": {
   "codemirror_mode": {
    "name": "ipython",
    "version": 3
   },
   "file_extension": ".py",
   "mimetype": "text/x-python",
   "name": "python",
   "nbconvert_exporter": "python",
   "pygments_lexer": "ipython3",
   "version": "3.9.12"
  }
 },
 "nbformat": 4,
 "nbformat_minor": 4
}
